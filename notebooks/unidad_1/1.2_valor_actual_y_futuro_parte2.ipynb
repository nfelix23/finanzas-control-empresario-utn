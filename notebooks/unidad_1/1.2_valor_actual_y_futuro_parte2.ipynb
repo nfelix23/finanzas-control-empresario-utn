{
 "cells": [
  {
   "cell_type": "markdown",
   "metadata": {},
   "source": [
    "# 1.2 Valor Actual y Futuro - Parte 2: Aplicaciones\n",
    "\n",
    "**Finanzas y Control Empresario - UTN La Plata**  \n",
    "**Unidad 1: Fundamentos y Valor del Dinero en el Tiempo**\n",
    "\n",
    "## Objetivos\n",
    "- Explorar aplicaciones prácticas del valor temporal del dinero\n",
    "- Analizar el efecto de la tasa de interés y el tiempo en la valoración\n",
    "- Aplicar técnicas de valoración para la toma de decisiones de inversión\n",
    "\n",
    "## Configuración inicial"
   ]
  },
  {
   "cell_type": "code",
   "execution_count": null,
   "metadata": {},
   "outputs": [],
   "source": [
    "# Importamos las bibliotecas necesarias\n",
    "import numpy as np\n",
    "import pandas as pd\n",
    "import matplotlib.pyplot as plt\n",
    "import seaborn as sns\n",
    "import matplotlib.ticker as ticker\n",
    "\n",
    "# Configuración para visualizaciones\n",
    "plt.style.use('seaborn-whitegrid')\n",
    "sns.set_palette(\"deep\")\n",
    "plt.rcParams['figure.figsize'] = [12, 7]\n",
    "plt.rcParams['font.size'] = 12\n",
    "\n",
    "# Funciones básicas definidas en la Parte 1\n",
    "def valor_futuro(va, tasa, periodos):\n",
    "    return va * (1 + tasa) ** periodos\n",
    "\n",
    "def valor_actual(vf, tasa, periodos):\n",
    "    return vf / (1 + tasa) ** periodos"
   ]
  },
  {
   "cell_type": "markdown",
   "metadata": {},
   "source": [
    "## Efecto de la tasa de interés y el tiempo\n",
    "\n",
    "Vamos a analizar cómo los cambios en la tasa de interés y el horizonte temporal afectan al valor futuro y el valor presente."
   ]
  },
  {
   "cell_type": "code",
   "execution_count": null,
   "metadata": {},
   "outputs": [],
   "source": [
    "# Parámetros base\n",
    "capital_base = 100000  # $100,000 ARS\n",
    "anios = np.arange(1, 11)  # 1 a 10 años\n",
    "tasas = np.array([0.3, 0.5, 0.7, 0.9, 1.1])  # 30% a 110% anual\n",
    "\n",
    "# Crear tabla de valores futuros para diferentes tasas y plazos\n",
    "tabla_vf = pd.DataFrame(index=anios, columns=[f\"{t:.0%}\" for t in tasas])\n",
    "\n",
    "for anio in anios:\n",
    "    for i, tasa in enumerate(tasas):\n",
    "        tabla_vf.at[anio, f\"{tasa:.0%}\"] = valor_futuro(capital_base, tasa, anio)\n",
    "\n",
    "# Mostrar tabla formateada\n",
    "print(\"Valor Futuro de $100,000 según tasa y plazo:\")\n",
    "pd.options.display.float_format = '${:,.2f}'.format\n",
    "tabla_vf"
   ]
  },
  {
   "cell_type": "code",
   "execution_count": null,
   "metadata": {},
   "outputs": [],
   "source": [
    "# Visualizar el efecto del interés compuesto a largo plazo\n",
    "plt.figure(figsize=(14, 8))\n",
    "\n",
    "for tasa in tasas:\n",
    "    valores = [valor_futuro(capital_base, tasa, anio) for anio in anios]\n",
    "    plt.plot(anios, valores, marker='o', linewidth=2, label=f\"Tasa: {tasa:.0%}\")\n",
    "\n",
    "plt.title('Efecto del interés compuesto en el tiempo', fontsize=16)\n",
    "plt.xlabel('Años', fontsize=14)\n",
    "plt.ylabel('Valor Futuro ($)', fontsize=14)\n",
    "plt.grid(True, alpha=0.3)\n",
    "plt.legend(fontsize=12)\n",
    "\n",
    "# Formato de etiquetas en millones\n",
    "plt.gca().yaxis.set_major_formatter(ticker.FuncFormatter(lambda x, p: f'{x/1e6:.1f}M'))\n",
    "\n",
    "plt.show()"
   ]
  },
  {
   "cell_type": "markdown",
   "metadata": {},
   "source": [
    "### Análisis del valor actual de flujos futuros\n",
    "\n",
    "Visualicemos cómo el valor presente de un monto futuro cambia según la tasa de descuento y el tiempo."
   ]
  },
  {
   "cell_type": "code",
   "execution_count": null,
   "metadata": {},
   "outputs": [],
   "source": [
    "# Parámetros\n",
    "monto_futuro = 1000000  # $1,000,000 ARS\n",
    "anios = np.arange(1, 11)  # 1 a 10 años\n",
    "tasas = np.array([0.3, 0.5, 0.7, 0.9, 1.1])  # 30% a 110% anual\n",
    "\n",
    "# Crear gráfico de valor presente\n",
    "plt.figure(figsize=(14, 8))\n",
    "\n",
    "for tasa in tasas:\n",
    "    valores_presentes = [valor_actual(monto_futuro, tasa, anio) for anio in anios]\n",
    "    plt.plot(anios, valores_presentes, marker='o', linewidth=2, label=f\"Tasa: {tasa:.0%}\")\n",
    "\n",
    "plt.title(f'Valor actual de ${monto_futuro:,.0f} recibidos en el futuro', fontsize=16)\n",
    "plt.xlabel('Años hasta recibir el monto', fontsize=14)\n",
    "plt.ylabel('Valor Presente ($)', fontsize=14)\n",
    "plt.grid(True, alpha=0.3)\n",
    "plt.legend(fontsize=12)\n",
    "\n",
    "# Formato de etiquetas\n",
    "plt.gca().yaxis.set_major_formatter(ticker.FuncFormatter(lambda x, p: f'{x/1e3:.0f}k'))\n",
    "\n",
    "plt.show()"
   ]
  },
  {
   "cell_type": "markdown",
   "metadata": {},
   "source": [
    "## La Regla del 72: Calculando el tiempo de duplicación\n",
    "\n",
    "La regla del 72 es una fórmula aproximada que permite calcular rápidamente el tiempo necesario para duplicar una inversión a una tasa de interés específica."
   ]
  },
  {
   "cell_type": "code",
   "execution_count": null,
   "metadata": {},
   "outputs": [],
   "source": [
    "def tiempo_duplicacion_exacto(tasa):\n",
    "    \"\"\"\n",
    "    Calcula el tiempo exacto para duplicar una inversión\n",
    "    \n",
    "    Parámetros:\n",
    "    tasa (float): Tasa de interés (en decimales)\n",
    "    \n",
    "    Retorna:\n",
    "    float: Tiempo en períodos para duplicar la inversión\n",
    "    \"\"\"\n",
    "    return np.log(2) / np.log(1 + tasa)\n",
    "\n",
    "def tiempo_duplicacion_regla72(tasa):\n",
    "    \"\"\"\n",
    "    Calcula el tiempo aproximado para duplicar una inversión usando la regla del 72\n",
    "    \n",
    "    Parámetros:\n",
    "    tasa (float): Tasa de interés (en decimales)\n",
    "    \n",
    "    Retorna:\n",
    "    float: Tiempo aproximado en períodos para duplicar la inversión\n",
    "    \"\"\"\n",
    "    return 72 / (tasa * 100)\n",
    "\n",
    "# Comparar la regla del 72 con el cálculo exacto\n",
    "tasas = np.array([0.01, 0.02, 0.03, 0.05, 0.07, 0.1, 0.15, 0.2, 0.3, 0.5, 1.0])\n",
    "tiempo_exacto = [tiempo_duplicacion_exacto(t) for t in tasas]\n",
    "tiempo_regla72 = [tiempo_duplicacion_regla72(t) for t in tasas]\n",
    "\n",
    "# Crear tabla comparativa\n",
    "tabla_comparacion = pd.DataFrame({\n",
    "    'Tasa': [f\"{t:.0%}\" for t in tasas],\n",
    "    'Tiempo Exacto (años)': tiempo_exacto,\n",
    "    'Regla del 72 (años)': tiempo_regla72,\n",
    "    'Diferencia (%)': [(r/e - 1) * 100 for r, e in zip(tiempo_regla72, tiempo_exacto)]\n",
    "})\n",
    "\n",
    "pd.options.display.float_format = '{:.2f}'.format\n",
    "tabla_comparacion"
   ]
  },
  {
   "cell_type": "code",
   "execution_count": null,
   "metadata": {},
   "outputs": [],
   "source": [
    "# Visualizar comparación\n",
    "plt.figure(figsize=(12, 6))\n",
    "plt.plot(tasas*100, tiempo_exacto, 'b-', marker='o', label='Cálculo Exacto')\n",
    "plt.plot(tasas*100, tiempo_regla72, 'r--', marker='x', label='Regla del 72')\n",
    "\n",
    "plt.title('Tiempo necesario para duplicar una inversión', fontsize=16)\n",
    "plt.xlabel('Tasa de interés (%)', fontsize=14)\n",
    "plt.ylabel('Años para duplicar capital', fontsize=14)\n",
    "plt.grid(True, alpha=0.3)\n",
    "plt.legend(fontsize=12)\n",
    "\n",
    "# Añadir anotaciones para algunas tasas típicas en Argentina\n",
    "tasas_referencia = [0.3, 0.5, 0.95]  # 30%, 50%, 95%\n",
    "for t in tasas_referencia:\n",
    "    idx = np.abs(tasas - t).argmin() if t not in tasas else list(tasas).index(t)\n",
    "    plt.annotate(f\"{t*100:.0f}%: {tiempo_exacto[idx]:.1f} años\", \n",
    "                 xy=(t*100, tiempo_exacto[idx]),\n",
    "                 xytext=(t*100+5, tiempo_exacto[idx]+0.5),\n",
    "                 arrowprops=dict(facecolor='blue', shrink=0.05))\n",
    "\n",
    "plt.tight_layout()\n",
    "plt.show()"
   ]
  },
  {
   "cell_type": "markdown",
   "metadata": {},
   "source": [
    "## Ejercicios propuestos - Parte 2\n",
    "\n",
    "1. Estás evaluando una inversión que promete duplicar tu dinero en 3 años. ¿Cuál es la tasa de interés anual implícita en esta promesa? Utiliza tanto el método exacto como la regla del 72.\n",
    "\n",
    "2. Usando la regla del 72, estima aproximadamente en cuánto tiempo se duplicará tu dinero con las siguientes tasas de inflación: 25%, 50%, 100%. ¿Qué implicancia tiene esto para el poder adquisitivo en un contexto de alta inflación?\n",
    "\n",
    "3. Crea una visualización que muestre cómo diferentes niveles de inflación afectan el poder adquisitivo de $100,000 a lo largo de 5 años."
   ]
  }
 ],
 "metadata": {
  "kernelspec": {
   "display_name": "Python 3",
   "language": "python",
   "name": "python3"
  },
  "language_info": {
   "codemirror_mode": {
    "name": "ipython",
    "version": 3
   },
   "file_extension": ".py",
   "mimetype": "text/x-python",
   "name": "python",
   "nbconvert_exporter": "python",
   "pygments_lexer": "ipython3",
   "version": "3.8.10"
  }
 },
 "nbformat": 4,
 "nbformat_minor": 4
}