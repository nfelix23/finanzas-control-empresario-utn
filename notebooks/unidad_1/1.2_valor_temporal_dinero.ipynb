{
 "cells": [
  {
   "cell_type": "markdown",
   "metadata": {},
   "source": [
    "# Valor Temporal del Dinero\n",
    "\n",
    "**Finanzas y Control Empresario - UTN La Plata**  \n",
    "**Unidad 1: Fundamentos financieros**\n",
    "\n",
    "## Objetivos\n",
    "- Comprender el concepto del valor temporal del dinero\n",
    "- Implementar cálculos de valor presente y valor futuro\n",
    "- Analizar el impacto de diferentes tasas de interés\n",
    "- Entender el efecto de la inflación sobre el poder adquisitivo\n",
    "\n",
    "## Introducción\n",
    "\n",
    "El valor temporal del dinero es uno de los conceptos más fundamentales en finanzas. Establece que un peso hoy vale más que un peso en el futuro debido a tres factores principales:\n",
    "\n",
    "1. **Oportunidad de inversión**: El dinero puede ser invertido y generar rendimientos\n",
    "2. **Inflación**: El poder adquisitivo tiende a disminuir con el tiempo\n",
    "3. **Riesgo**: Recibir dinero en el futuro implica incertidumbre\n",
    "\n",
    "Comprender este concepto es esencial para la toma de decisiones financieras, ya que permite comparar flujos de dinero que ocurren en diferentes momentos del tiempo."
   ]
  },
  {
   "cell_type": "markdown",
   "metadata": {},
   "source": [
    "## Fundamentos matemáticos\n",
    "\n",
    "### Valor Futuro\n",
    "\n",
    "El valor futuro (VF) de una cantidad presente (VP) después de $n$ períodos a una tasa de interés $r$ por período se calcula como:\n",
    "\n",
    "$$VF = VP \\times (1 + r)^n$$\n",
    "\n",
    "### Valor Presente\n",
    "\n",
    "El valor presente (VP) de una cantidad futura (VF) a recibir en $n$ períodos, descontada a una tasa $r$ por período se calcula como:\n",
    "\n",
    "$$VP = \\frac{VF}{(1 + r)^n}$$\n",
    "\n",
    "Esta operación se conoce como **descuento** y es fundamental para la evaluación de inversiones y proyectos."
   ]
  }
 ],
 "metadata": {
  "kernelspec": {
   "display_name": "Python 3",
   "language": "python",
   "name": "python3"
  },
  "language_info": {
   "codemirror_mode": {
    "name": "ipython",
    "version": 3
   },
   "file_extension": ".py",
   "mimetype": "text/x-python",
   "name": "python",
   "nbconvert_exporter": "python",
   "pygments_lexer": "ipython3",
   "version": "3.8.10"
  }
 },
 "nbformat": 4,
 "nbformat_minor": 4
}