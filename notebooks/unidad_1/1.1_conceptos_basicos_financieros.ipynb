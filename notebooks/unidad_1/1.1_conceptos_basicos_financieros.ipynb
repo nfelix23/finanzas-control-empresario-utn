{
 "cells": [
  {
   "cell_type": "markdown",
   "metadata": {},
   "source": [
    "# 1.1 Conceptos Básicos Financieros\n",
    "\n",

"https://colab.research.google.com/github/nfelix23/finanzas-control-empresario-utn/blob/main/notebooks/unidad_1/1.1_conceptos_basicos_financieros.ipynb",



    "**Finanzas y Control Empresario - UTN La Plata**  \n",
    "**Unidad 1: Fundamentos y Valor del Dinero en el Tiempo**\n",
    "\n",
    "## Objetivos\n",
    "- Comprender los conceptos fundamentales de las finanzas\n",
    "- Entender las bases teóricas del valor del dinero en el tiempo\n",
    "- Analizar los factores que afectan al valor del dinero\n",
    "- Contextualizar estos conceptos en el entorno económico argentino\n",
    "\n",
    "## Introducción\n",
    "\n",
    "Las finanzas estudian la forma en que los individuos, empresas y organizaciones asignan recursos a lo largo del tiempo bajo condiciones de certeza e incertidumbre. Un concepto fundamental en finanzas es que el dinero tiene un valor diferente según el momento en el tiempo en que se recibe o se desembolsa.\n",
    "\n",
    "## Fundamentos del valor temporal del dinero\n",
    "\n",
    "El valor temporal del dinero se basa en la premisa de que un peso hoy vale más que un peso en el futuro. Esto se debe a cuatro factores principales:"
   ]
  },
  {
   "cell_type": "markdown",
   "metadata": {},
   "source": [
    "### 1. Costo de oportunidad\n",
    "\n",
    "El costo de oportunidad representa el rendimiento que podríamos obtener de la mejor alternativa disponible cuando tomamos una decisión. En términos financieros, si tenemos dinero hoy, podríamos invertirlo y obtener un rendimiento, mientras que si recibimos ese mismo dinero en el futuro, perdemos la oportunidad de invertirlo durante ese período.\n",
    "\n",
    "#### Ejemplo en contexto argentino:\n",
    "Si tenemos $100,000 ARS hoy, podríamos colocarlos en un plazo fijo a una tasa del 75% anual. Al esperar un año para recibir ese dinero, perdemos la oportunidad de ganar $75,000 ARS de interés."
   ]
  },
  {
   "cell_type": "code",
   "execution_count": null,
   "metadata": {},
   "outputs": [],
   "source": [
    "import numpy as np\n",
    "import pandas as pd\n",
    "import matplotlib.pyplot as plt\n",
    "\n",
    "# Ejemplo de costo de oportunidad\n",
    "capital = 100000  # $100,000 ARS\n",
    "tasa_anual = 0.75  # 75% anual\n",
    "costo_oportunidad = capital * tasa_anual\n",
    "\n",
    "print(f\"Capital disponible: ${capital:,.2f}\")\n",
    "print(f\"Tasa anual disponible: {tasa_anual:.2%}\")\n",
    "print(f\"Costo de oportunidad al esperar un año: ${costo_oportunidad:,.2f}\")"
   ]
  },
  {
   "cell_type": "markdown",
   "metadata": {},
   "source": [
    "### 2. Inflación\n",
    "\n",
    "La inflación reduce el poder adquisitivo del dinero a lo largo del tiempo. Un peso hoy puede comprar más bienes y servicios que ese mismo peso en el futuro si hay inflación (lo cual es particularmente relevante en Argentina).\n",
    "\n",
    "#### Ejemplo en contexto argentino:\n",
    "Con una inflación anual del 140%, $100,000 ARS hoy equivaldrían a $240,000 ARS dentro de un año para mantener el mismo poder adquisitivo."
   ]
  },
  {
   "cell_type": "code",
   "execution_count": null,
   "metadata": {},
   "outputs": [],
   "source": [
    "# Ejemplo de erosión por inflación\n",
    "capital = 100000  # $100,000 ARS\n",
    "inflacion_anual = 1.40  # 140% anual\n",
    "poder_adquisitivo = capital * (1 + inflacion_anual)\n",
    "\n",
    "print(f\"Capital actual: ${capital:,.2f}\")\n",
    "print(f\"Inflación anual estimada: {inflacion_anual:.2%}\")\n",
    "print(f\"Dinero necesario en un año para mantener poder adquisitivo: ${poder_adquisitivo:,.2f}\")\n",
    "print(f\"Pérdida de poder adquisitivo: ${poder_adquisitivo - capital:,.2f}\")"
   ]
  },
  {
   "cell_type": "markdown",
   "metadata": {},
   "source": [
    "### 3. Riesgo\n",
    "\n",
    "El futuro siempre conlleva incertidumbre. Recibir dinero en el futuro implica el riesgo de que ese pago nunca llegue o llegue parcialmente, por lo que el dinero presente es más valioso que una promesa futura.\n",
    "\n",
    "#### Ejemplo en contexto argentino:\n",
    "En un entorno económico volátil como el argentino, un contrato que promete pagar $100,000 ARS dentro de un año tiene un mayor riesgo de incumplimiento que recibir ese monto hoy, por lo que los inversores exigen una prima adicional por asumir ese riesgo."
   ]
  },
  {
   "cell_type": "code",
   "execution_count": null,
   "metadata": {},
   "outputs": [],
   "source": [
    "# Ejemplo de prima de riesgo\n",
    "capital = 100000  # $100,000 ARS\n",
    "tasa_libre_riesgo = 0.45  # 45% (tasa teórica \"libre de riesgo\" en ARG)\n",
    "prima_riesgo = 0.30  # 30% de prima por riesgo\n",
    "tasa_total = tasa_libre_riesgo + prima_riesgo\n",
    "\n",
    "valor_percibido = capital / (1 + tasa_total)\n",
    "\n",
    "print(f\"Promesa de pago futuro: ${capital:,.2f}\")\n",
    "print(f\"Tasa libre de riesgo: {tasa_libre_riesgo:.2%}\")\n",
    "print(f\"Prima de riesgo: {prima_riesgo:.2%}\")\n",
    "print(f\"Valor percibido hoy de esa promesa: ${valor_percibido:,.2f}\")\n",
    "print(f\"Descuento por riesgo: ${capital - valor_percibido:,.2f}\")"
   ]
  },
  {
   "cell_type": "markdown",
   "metadata": {},
   "source": [
    "### 4. Preferencia temporal\n",
    "\n",
    "Las personas tienden a preferir el consumo presente sobre el consumo futuro, independientemente de consideraciones financieras. Esta es una característica del comportamiento humano que también contribuye al valor temporal del dinero.\n",
    "\n",
    "#### Ejemplo en contexto argentino:\n",
    "Dada la inestabilidad económica histórica en Argentina, existe una fuerte preferencia por el consumo inmediato frente al ahorro, lo que se refleja en tasas de interés más altas para incentivar el ahorro."
   ]
  },
  {
   "cell_type": "code",
   "execution_count": null,
   "metadata": {},
   "outputs": [],
   "source": [
    "# Visualización de la preferencia temporal con diferentes escenarios\n",
    "años = np.arange(0, 11)\n",
    "preferencia_baja = 0.05  # 5% de descuento por año\n",
    "preferencia_media = 0.15  # 15% de descuento por año\n",
    "preferencia_alta = 0.40  # 40% de descuento por año (típico en contexto de alta inflación)\n",
    "\n",
    "valor_percibido_baja = 100 * (1 / (1 + preferencia_baja)) ** años\n",
    "valor_percibido_media = 100 * (1 / (1 + preferencia_media)) ** años\n",
    "valor_percibido_alta = 100 * (1 / (1 + preferencia_alta)) ** años\n",
    "\n",
    "plt.figure(figsize=(10, 6))\n",
    "plt.plot(años, valor_percibido_baja, 'b-', label=f'Preferencia Baja ({preferencia_baja:.0%})')\n",
    "plt.plot(años, valor_percibido_media, 'g-', label=f'Preferencia Media ({preferencia_media:.0%})')\n",
    "plt.plot(años, valor_percibido_alta, 'r-', label=f'Preferencia Alta ({preferencia_alta:.0%})')\n",
    "\n",
    "plt.title('Valor percibido de $100 recibidos en diferentes momentos')\n",
    "plt.xlabel('Años en el futuro')\n",
    "plt.ylabel('Valor percibido hoy')\n",
    "plt.grid(True, alpha=0.3)\n",
    "plt.legend()\n",
    "plt.show()\n",
    "\n",
    "# Tabla comparativa\n",
    "df_preferencia = pd.DataFrame({\n",
    "    'Año': años,\n",
    "    f'Preferencia Baja ({preferencia_baja:.0%})': valor_percibido_baja,\n",
    "    f'Preferencia Media ({preferencia_media:.0%})': valor_percibido_media,\n",
    "    f'Preferencia Alta ({preferencia_alta:.0%})': valor_percibido_alta\n",
    "})\n",
    "\n",
    "df_preferencia.set_index('Año', inplace=True)\n",
    "df_preferencia.round(2)"
   ]
  },
  {
   "cell_type": "markdown",
   "metadata": {},
   "source": [
    "## Interacción entre los factores\n",
    "\n",
    "En la práctica, estos cuatro factores interactúan y se influyen mutuamente:\n",
    "\n",
    "- Una mayor inflación tiende a aumentar las tasas de interés (costo de oportunidad)\n",
    "- Un mayor riesgo percibido también incrementa las tasas de interés exigidas\n",
    "- La preferencia temporal puede variar según las expectativas de inflación y estabilidad económica\n",
    "\n",
    "En el contexto económico argentino, estos factores suelen manifestarse con mayor intensidad debido a la volatilidad histórica y las altas tasas de inflación."
   ]
  },
  {
   "cell_type": "code",
   "execution_count": null,
   "metadata": {},
   "outputs": [],
   "source": [
    "# Simulación de cómo la tasa de interés se compone de diferentes factores\n",
    "escenarios = ['Baja Inflación/Estabilidad', 'Inflación Moderada', 'Alta Inflación/Inestabilidad (ARG)']\n",
    "tasa_real = [0.02, 0.04, 0.08]  # Tasa real exigida\n",
    "inflacion = [0.03, 0.15, 1.40]  # Expectativa de inflación\n",
    "prima_riesgo = [0.01, 0.05, 0.25]  # Prima por riesgo\n",
    "preferencia_temporal = [0.01, 0.03, 0.12]  # Factor adicional por preferencia temporal\n",
    "\n",
    "# Cálculo de tasa nominal efectiva\n",
    "tasa_total = []\n",
    "for i in range(len(escenarios)):\n",
    "    # Fórmula simplificada: tasa = ((1 + real) * (1 + inflación) * (1 + riesgo) * (1 + preferencia)) - 1\n",
    "    tasa = ((1 + tasa_real[i]) * (1 + inflacion[i]) * (1 + prima_riesgo[i]) * (1 + preferencia_temporal[i])) - 1\n",
    "    tasa_total.append(tasa)\n",
    "\n",
    "# Crear DataFrame para visualización\n",
    "df_tasas = pd.DataFrame({\n",
    "    'Escenario': escenarios,\n",
    "    'Tasa Real': [f\"{r:.2%}\" for r in tasa_real],\n",
    "    'Inflación': [f\"{i:.2%}\" for i in inflacion],\n",
    "    'Prima de Riesgo': [f\"{r:.2%}\" for r in prima_riesgo],\n",
    "    'Preferencia Temporal': [f\"{p:.2%}\" for p in preferencia_temporal],\n",
    "    'Tasa Nominal Total': [f\"{t:.2%}\" for t in tasa_total]\n",
    "})\n",
    "\n",
    "df_tasas.set_index('Escenario')"
   ]
  },
  {
   "cell_type": "markdown",
   "metadata": {},
   "source": [
    "## Visualización de los componentes de la tasa de interés"
   ]
  },
  {
   "cell_type": "code",
   "execution_count": null,
   "metadata": {},
   "outputs": [],
   "source": [
    "# Crear gráfico de barras apiladas\n",
    "componentes = pd.DataFrame({\n",
    "    'Escenario': escenarios,\n",
    "    'Tasa Real': tasa_real,\n",
    "    'Inflación': inflacion,\n",
    "    'Prima de Riesgo': prima_riesgo,\n",
    "    'Preferencia Temporal': preferencia_temporal\n",
    "})\n",
    "\n",
    "componentes_stack = componentes.set_index('Escenario')\n",
    "ax = componentes_stack.plot(kind='bar', stacked=True, figsize=(12, 6), \n",
    "                            color=['#4CAF50', '#FFC107', '#F44336', '#9C27B0'])\n",
    "\n",
    "# Añadir etiquetas\n",
    "for i, scenario in enumerate(escenarios):\n",
    "    ax.text(i, tasa_total[i] + 0.05, f\"{tasa_total[i]:.2%}\", \n",
    "            ha='center', va='bottom', fontweight='bold', fontsize=12)\n",
    "\n",
    "plt.title('Composición de la Tasa de Interés en Diferentes Escenarios', fontsize=14)\n",
    "plt.ylabel('Tasa (porcentaje en decimal)', fontsize=12)\n",
    "plt.legend(title='Componentes', fontsize=10)\n",
    "plt.grid(axis='y', alpha=0.3)\n",
    "plt.show()"
   ]
  },
  {
   "cell_type": "markdown",
   "metadata": {},
   "source": [
    "## Implicancias prácticas\n",
    "\n",
    "La comprensión del valor temporal del dinero tiene importantes implicaciones prácticas:\n",
    "\n",
    "1. **Decisiones de inversión**: Permite evaluar y comparar diferentes oportunidades de inversión que generan flujos de efectivo en distintos momentos.\n",
    "\n",
    "2. **Préstamos y financiamiento**: Ayuda a determinar el costo real de un préstamo y la carga financiera que representa.\n",
    "\n",
    "3. **Evaluación de proyectos**: Es fundamental para calcular el Valor Actual Neto (VAN) y otros indicadores de rentabilidad de proyectos.\n",
    "\n",
    "4. **Planificación financiera personal**: Facilita la planificación para objetivos financieros futuros como el retiro o grandes compras.\n",
    "\n",
    "En el siguiente notebook, profundizaremos en las fórmulas y cálculos específicos del valor futuro y valor presente."
   ]
  },
  {
   "cell_type": "markdown",
   "metadata": {},
   "source": [
    "## Ejercicios propuestos\n",
    "\n",
    "1. Dado el contexto económico argentino actual, identifica y justifica cuál de los cuatro factores del valor temporal del dinero tiene mayor impacto en las decisiones financieras de:\n",
    "   - Una familia que planea comprar una vivienda\n",
    "   - Una empresa que evalúa expandir su capacidad productiva\n",
    "   - Un inversor extranjero que considera invertir en Argentina\n",
    "\n",
    "2. Supongamos que tienes la opción de recibir $500,000 ARS hoy o $850,000 ARS dentro de un año. Con una inflación proyectada del 130% anual:\n",
    "   - ¿Cuál opción es preferible desde un punto de vista puramente financiero?\n",
    "   - ¿Qué otros factores no financieros podrían influir en tu decisión?\n",
    "\n",
    "3. Analiza cómo se relaciona el concepto de valor temporal del dinero con las decisiones de consumo e inversión en contextos de alta inflación como el argentino. ¿Por qué observamos comportamientos como la preferencia por bienes durables en lugar de ahorro financiero?"
   ]
  }
 ],
 "metadata": {
  "kernelspec": {
   "display_name": "Python 3",
   "language": "python",
   "name": "python3"
  },
  "language_info": {
   "codemirror_mode": {
    "name": "ipython",
    "version": 3
   },
   "file_extension": ".py",
   "mimetype": "text/x-python",
   "name": "python",
   "nbconvert_exporter": "python",
   "pygments_lexer": "ipython3",
   "version": "3.8.10"
  }
 },
 "nbformat": 4,
 "nbformat_minor": 4
}
