{
 "cells": [
  {
   "cell_type": "markdown",
   "metadata": {},
   "source": [
    "# 1.4 Anualidades y Perpetuidades - Parte 2: Aplicación a Préstamos\n",
    "\n",
    "**Finanzas y Control Empresario - UTN La Plata**  \n",
    "**Unidad 1: Fundamentos y Valor del Dinero en el Tiempo**\n",
    "\n",
    "## Objetivos\n",
    "- Aplicar los conceptos de anualidades a préstamos\n",
    "- Implementar cálculos de cuotas y tablas de amortización\n",
    "- Comparar diferentes sistemas de amortización\n",
    "- Analizar la sensibilidad de las cuotas a cambios en tasas y plazos\n",
    "\n",
    "## Introducción\n",
    "\n",
    "Una aplicación práctica y común de las anualidades es el cálculo y análisis de préstamos. En esta parte, aplicaremos los conceptos teóricos vistos en la Parte 1 para implementar el cálculo de cuotas, generar tablas de amortización y comparar diferentes sistemas de préstamos, con enfoque en el contexto argentino."
   ]
  },
  {
   "cell_type": "code",
   "execution_count": null,
   "metadata": {},
   "outputs": [],
   "source": [
    "# Importamos las bibliotecas necesarias\n",
    "import numpy as np\n",
    "import pandas as pd\n",
    "import matplotlib.pyplot as plt\n",
    "import seaborn as sns\n",
    "\n",
    "# Configuración para visualizaciones\n",
    "plt.style.use('seaborn-whitegrid')\n",
    "sns.set_palette(\"deep\")\n",
    "plt.rcParams['figure.figsize'] = [12, 7]\n",
    "plt.rcParams['font.size'] = 12\n",
    "\n",
    "# Retomamos las funciones implementadas en la Parte 1\n",
    "def va_anualidad_ordinaria(pago, tasa, periodos):\n",
    "    return pago * (1 - (1 + tasa) ** -periodos) / tasa"
   ]
  },
  {
   "cell_type": "markdown",
   "metadata": {},
   "source": [
    "## Cálculo de cuotas de préstamos\n",
    "\n",
    "Para calcular la cuota periódica de un préstamo, utilizamos el concepto de valor actual de una anualidad ordinaria. La idea es que el valor actual de todas las cuotas debe ser igual al monto del préstamo."
   ]
  },
  {
   "cell_type": "code",
   "execution_count": null,
   "metadata": {},
   "outputs": [],
   "source": [
    "def calcular_cuota(monto_prestamo, tasa, plazo):\n",
    "    \"\"\"\n",
    "    Calcula la cuota periódica de un préstamo\n",
    "    \n",
    "    Parámetros:\n",
    "    monto_prestamo (float): Monto del préstamo\n",
    "    tasa (float): Tasa de interés por período\n",
    "    plazo (int): Plazo en períodos\n",
    "    \n",
    "    Retorna:\n",
    "    float: Cuota periódica\n",
    "    \"\"\"\n",
    "    return monto_prestamo / va_anualidad_ordinaria(1, tasa, plazo)\n",
    "\n",
    "def tabla_amortizacion(prestamo, tasa, cuota, periodos):\n",
    "    \"\"\"\n",
    "    Genera tabla de amortización de un préstamo\n",
    "    \n",
    "    Parámetros:\n",
    "    prestamo (float): Monto del préstamo\n",
    "    tasa (float): Tasa de interés por período\n",
    "    cuota (float): Cuota periódica\n",
    "    periodos (int): Plazo en períodos\n",
    "    \n",
    "    Retorna:\n",
    "    DataFrame: Tabla de amortización\n",
    "    \"\"\"\n",
    "    saldo = prestamo\n",
    "    tabla = []\n",
    "    \n",
    "    for periodo in range(1, periodos + 1):\n",
    "        interes = saldo * tasa\n",
    "        capital = cuota - interes\n",
    "        saldo = saldo - capital\n",
    "        \n",
    "        tabla.append({\n",
    "            'Período': periodo,\n",
    "            'Cuota': cuota,\n",
    "            'Interés': interes,\n",
    "            'Capital': capital,\n",
    "            'Saldo': max(0, saldo)  # Evitar saldos negativos por redondeo\n",
    "        })\n",
    "    \n",
    "    return pd.DataFrame(tabla)"
   ]
  },
  {
   "cell_type": "markdown",
   "metadata": {},
   "source": [
    "## Ejemplo: Préstamo Personal en Argentina\n",
    "\n",
    "Analicemos un préstamo personal típico en el contexto argentino actual (2024)."
   ]
  },
  {
   "cell_type": "code",
   "execution_count": null,
   "metadata": {},
   "outputs": [],
   "source": [
    "# Datos del préstamo\n",
    "monto_prestamo = 1000000  # $1,000,000 ARS\n",
    "tasa_mensual = 0.08  # 8% mensual\n",
    "plazo_meses = 12\n",
    "\n",
    "# Cálculo de cuota mensual\n",
    "cuota = calcular_cuota(monto_prestamo, tasa_mensual, plazo_meses)\n",
    "\n",
    "print(f\"Monto del préstamo: ${monto_prestamo:,.2f}\")\n",
    "print(f\"Tasa mensual: {tasa_mensual:.2%}\")\n",
    "print(f\"Plazo: {plazo_meses} meses\")\n",
    "print(f\"Cuota mensual: ${cuota:,.2f}\")\n",
    "\n",
    "# Calcular Tasa Efectiva Anual (TEA)\n",
    "tea = (1 + tasa_mensual) ** 12 - 1\n",
    "print(f\"Tasa Efectiva Anual (TEA): {tea:.2%}\")\n",
    "\n",
    "# Calcular Costo Financiero Total (CFT) - simplificado sin considerar comisiones adicionales\n",
    "cft = tea\n",
    "print(f\"Costo Financiero Total (CFT) aproximado: {cft:.2%}\")"
   ]
  },
  {
   "cell_type": "markdown",
   "metadata": {},
   "source": [
    "## Tabla de Amortización\n",
    "\n",
    "La tabla de amortización nos muestra cómo se distribuye la cuota entre pago de intereses y amortización de capital."
   ]
  },
  {
   "cell_type": "code",
   "execution_count": null,
   "metadata": {},
   "outputs": [],
   "source": [
    "# Generar y mostrar tabla de amortización\n",
    "tabla = tabla_amortizacion(monto_prestamo, tasa_mensual, cuota, plazo_meses)\n",
    "\n",
    "# Formatear montos en la tabla para mejor visualización\n",
    "pd.options.display.float_format = '${:,.2f}'.format\n",
    "tabla"
   ]
  },
  {
   "cell_type": "markdown",
   "metadata": {},
   "source": [
    "## Visualización de Amortización\n",
    "\n",
    "Visualicemos la evolución del saldo y la composición de las cuotas para entender mejor el comportamiento del préstamo."
   ]
  },
  {
   "cell_type": "code",
   "execution_count": null,
   "metadata": {},
   "outputs": [],
   "source": [
    "# Visualizar la evolución del saldo y la composición de las cuotas\n",
    "fig, (ax1, ax2) = plt.subplots(1, 2, figsize=(15, 6))\n",
    "\n",
    "# Gráfico de evolución del saldo\n",
    "ax1.plot(tabla['Período'], tabla['Saldo'], 'b-', marker='o')\n",
    "ax1.set_title('Evolución del Saldo', fontsize=14)\n",
    "ax1.set_xlabel('Período (mes)', fontsize=12)\n",
    "ax1.set_ylabel('Saldo ($)', fontsize=12)\n",
    "ax1.grid(True, alpha=0.3)\n",
    "\n",
    "# Gráfico de composición de cuotas\n",
    "ax2.bar(tabla['Período'], tabla['Capital'], label='Capital', alpha=0.7)\n",
    "ax2.bar(tabla['Período'], tabla['Interés'], bottom=tabla['Capital'], label='Interés', alpha=0.7)\n",
    "ax2.set_title('Composición de Cuotas', fontsize=14)\n",
    "ax2.set_xlabel('Período (mes)', fontsize=12)\n",
    "ax2.set_ylabel('Monto ($)', fontsize=12)\n",
    "ax2.legend()\n",
    "ax2.grid(True, alpha=0.3)\n",
    "\n",
    "plt.tight_layout()\n",
    "plt.show()\n",
    "\n",
    "# Resumir resultados\n",
    "total_pagado = cuota * plazo_meses\n",
    "total_intereses = total_pagado - monto_prestamo\n",
    "\n",
    "print(f\"Total pagado: ${total_pagado:,.2f}\")\n",
    "print(f\"Total intereses: ${total_intereses:,.2f} ({total_intereses/monto_prestamo:.2%} del capital)\")"
   ]
  },
  {
   "cell_type": "markdown",
   "metadata": {},
   "source": [
    "## Análisis de Sensibilidad\n",
    "\n",
    "Analicemos cómo cambia la cuota al variar la tasa de interés, lo cual es particularmente relevante en el contexto argentino donde las tasas son altas y volátiles."
   ]
  },
  {
   "cell_type": "code",
   "execution_count": null,
   "metadata": {},
   "outputs": [],
   "source": [
    "# Rango de tasas mensuales para análisis\n",
    "tasas_prueba = np.arange(0.05, 0.16, 0.01)  # 5% a 15% mensual\n",
    "cuotas = [calcular_cuota(monto_prestamo, t, plazo_meses) for t in tasas_prueba]\n",
    "\n",
    "# Visualizar\n",
    "plt.figure(figsize=(12, 6))\n",
    "plt.plot(tasas_prueba * 100, cuotas, 'b-', linewidth=2.5)\n",
    "\n",
    "# Marcar tasa actual\n",
    "plt.scatter([tasa_mensual * 100], [cuota], color='red', s=100, zorder=5)\n",
    "plt.annotate(f'Tasa actual: {tasa_mensual:.2%}\\nCuota: ${cuota:,.2f}', \n",
    "            xy=(tasa_mensual * 100, cuota), xytext=(tasa_mensual * 100 + 1, cuota + 10000),\n",
    "            arrowprops=dict(facecolor='black', shrink=0.05, width=1.5))\n",
    "\n",
    "plt.title('Sensibilidad de la Cuota Mensual a la Tasa de Interés', fontsize=16)\n",
    "plt.xlabel('Tasa Mensual (%)', fontsize=14)\n",
    "plt.ylabel('Cuota ($)', fontsize=14)\n",
    "plt.grid(True, alpha=0.3)\n",
    "plt.tight_layout()\n",
    "plt.show()"
   ]
  },
  {
   "cell_type": "markdown",
   "metadata": {},
   "source": [
    "## Sistemas de Amortización Alternativos\n",
    "\n",
    "Además del sistema francés (cuota constante), existen otros sistemas de amortización. Implementaremos el sistema alemán, donde la amortización de capital es constante."
   ]
  },
  {
   "cell_type": "code",
   "execution_count": null,
   "metadata": {},
   "outputs": [],
   "source": [
    "def tabla_amortizacion_aleman(prestamo, tasa, periodos):\n",
    "    \"\"\"\n",
    "    Genera tabla de amortización con sistema alemán (amortización constante)\n",
    "    \n",
    "    Parámetros:\n",
    "    prestamo (float): Monto del préstamo\n",
    "    tasa (float): Tasa de interés por período\n",
    "    periodos (int): Plazo en períodos\n",
    "    \n",
    "    Retorna:\n",
    "    DataFrame: Tabla de amortización\n",
    "    \"\"\"\n",
    "    amortizacion = prestamo / periodos\n",
    "    saldo = prestamo\n",
    "    tabla = []\n",
    "    \n",
    "    for periodo in range(1, periodos + 1):\n",
    "        interes = saldo * tasa\n",
    "        cuota = amortizacion + interes\n",
    "        saldo = saldo - amortizacion\n",
    "        \n",
    "        tabla.append({\n",
    "            'Período': periodo,\n",
    "            'Cuota': cuota,\n",
    "            'Interés': interes,\n",
    "            'Capital': amortizacion,\n",
    "            'Saldo': max(0, saldo)  # Evitar saldos negativos por redondeo\n",
    "        })\n",
    "    \n",
    "    return pd.DataFrame(tabla)\n",
    "\n",
    "# Generar tabla con sistema alemán\n",
    "tabla_aleman = tabla_amortizacion_aleman(monto_prestamo, tasa_mensual, plazo_meses)"
   ]
  },
  {
   "cell_type": "code",
   "execution_count": null,
   "metadata": {},
   "outputs": [],
   "source": [
    "# Comparar primera y última cuota de ambos sistemas\n",
    "comparacion = pd.DataFrame({\n",
    "    'Sistema Francés - Primera Cuota': [tabla.iloc[0]['Cuota'], tabla.iloc[0]['Interés'], tabla.iloc[0]['Capital']],\n",
    "    'Sistema Francés - Última Cuota': [tabla.iloc[-1]['Cuota'], tabla.iloc[-1]['Interés'], tabla.iloc[-1]['Capital']],\n",
    "    'Sistema Alemán - Primera Cuota': [tabla_aleman.iloc[0]['Cuota'], tabla_aleman.iloc[0]['Interés'], tabla_aleman.iloc[0]['Capital']],\n",
    "    'Sistema Alemán - Última Cuota': [tabla_aleman.iloc[-1]['Cuota'], tabla_aleman.iloc[-1]['Interés'], tabla_aleman.iloc[-1]['Capital']]\n",
    "}, index=['Cuota', 'Interés', 'Capital'])\n",
    "\n",
    "comparacion"
   ]
  },
  {
   "cell_type": "markdown",
   "metadata": {},
   "source": [
    "## Visualización comparativa de sistemas de amortización"
   ]
  },
  {
   "cell_type": "code",
   "execution_count": null,
   "metadata": {},
   "outputs": [],
   "source": [
    "# Visualizar comparación de sistemas\n",
    "plt.figure(figsize=(12, 6))\n",
    "\n",
    "plt.plot(tabla['Período'], tabla['Cuota'], 'b-', label='Cuota Sistema Francés', linewidth=2)\n",
    "plt.plot(tabla_aleman['Período'], tabla_aleman['Cuota'], 'r-', label='Cuota Sistema Alemán', linewidth=2)\n",
    "\n",
    "plt.title('Comparación de Sistemas de Amortización', fontsize=16)\n",
    "plt.xlabel('Período (mes)', fontsize=14)\n",
    "plt.ylabel('Cuota ($)', fontsize=14)\n",
    "plt.grid(True, alpha=0.3)\n",
    "plt.legend()\n",
    "plt.tight_layout()\n",
    "plt.show()\n",
    "\n",
    "# Calcular totales para comparación\n",
    "total_frances = tabla['Cuota'].sum()\n",
    "total_aleman = tabla_aleman['Cuota'].sum()\n",
    "\n",
    "print(f\"Total pagado - Sistema Francés: ${total_frances:,.2f}\")\n",
    "print(f\"Total pagado - Sistema Alemán: ${total_aleman:,.2f}\")\n",
    "print(f\"Diferencia: ${total_aleman - total_frances:,.2f} ({(total_aleman/total_frances - 1):.2%})\")"
   ]
  },
  {
   "cell_type": "markdown",
   "metadata": {},
   "source": [
    "## Comparación de evolución de saldos"
   ]
  },
  {
   "cell_type": "code",
   "execution_count": null,
   "metadata": {},
   "outputs": [],
   "source": [
    "# Visualizar comparación de evolución de saldos\n",
    "plt.figure(figsize=(12, 6))\n",
    "\n",
    "plt.plot(tabla['Período'], tabla['Saldo'], 'b-', marker='o', label='Saldo Sistema Francés', linewidth=2)\n",
    "plt.plot(tabla_aleman['Período'], tabla_aleman['Saldo'], 'r-', marker='o', label='Saldo Sistema Alemán', linewidth=2)\n",
    "\n",
    "plt.title('Comparación de Evolución de Saldos', fontsize=16)\n",
    "plt.xlabel('Período (mes)', fontsize=14)\n",
    "plt.ylabel('Saldo ($)', fontsize=14)\n",
    "plt.grid(True, alpha=0.3)\n",
    "plt.legend()\n",
    "plt.tight_layout()\n",
    "plt.show()"
   ]
  },
  {
   "cell_type": "markdown",
   "metadata": {},
   "source": [
    "## Impacto de la inflación en préstamos\n",
    "\n",
    "En Argentina, con su alta inflación, es interesante analizar cómo cambia el valor real de las cuotas a lo largo del tiempo."
   ]
  },
  {
   "cell_type": "code",
   "execution_count": null,
   "metadata": {},
   "outputs": [],
   "source": [
    "# Supongamos una inflación mensual del 6%\n",
    "inflacion_mensual = 0.06\n",
    "\n",
    "# Calcular cuotas reales\n",
    "cuotas_nominales = tabla['Cuota']\n",
    "cuotas_reales = [cuotas_nominales[i] / (1 + inflacion_mensual) ** i for i in range(len(cuotas_nominales))]\n",
    "\n",
    "# Visualizar\n",
    "plt.figure(figsize=(12, 6))\n",
    "plt.plot(tabla['Período'], cuotas_nominales, 'b-', marker='o', label='Cuotas Nominales', linewidth=2)\n",
    "plt.plot(tabla['Período'], cuotas_reales, 'g-', marker='o', label='Cuotas Reales (ajustadas por inflación)', linewidth=2)\n",
    "\n",
    "plt.title('Impacto de la Inflación en el Valor Real de las Cuotas', fontsize=16)\n",
    "plt.xlabel('Período (mes)', fontsize=14)\n",
    "plt.ylabel('Valor de la Cuota ($)', fontsize=14)\n",
    "plt.grid(True, alpha=0.3)\n",
    "plt.legend()\n",
    "plt.tight_layout()\n",
    "plt.show()\n",
    "\n",
    "# Mostrar pérdida de valor\n",
    "print(f\"Valor real de la primera cuota: ${cuotas_reales[0]:,.2f}\")\n",
    "print(f\"Valor real de la última cuota: ${cuotas_reales[-1]:,.2f}\")\n",
    "print(f\"Pérdida de valor real: {(1 - cuotas_reales[-1]/cuotas_reales[0]):.2%}\")"
   ]
  },
  {
   "cell_type": "markdown",
   "metadata": {},
   "source": [
    "## Ejercicios propuestos - Parte 2\n",
    "\n",
    "1. Calcule la cuota mensual de un préstamo de $2,000,000 a 18 meses con una tasa del 7.5% mensual. Genere la tabla de amortización y calcule el total de intereses a pagar.\n",
    "\n",
    "2. Compare los sistemas francés y alemán para un préstamo de $5,000,000 a 24 meses con una tasa del 5% mensual:\n",
    "   - ¿Cuál sistema resulta más económico en términos de intereses totales?\n",
    "   - ¿Cómo se comparan las primeras y últimas cuotas de cada sistema?\n",
    "   - ¿En qué contexto sería preferible cada sistema?\n",
    "\n",
    "3. Para un préstamo con sistema francés, analice el impacto de diferentes tasas de inflación mensual (4%, 6%, 8%) en el valor real de las cuotas. ¿A partir de qué nivel de inflación la última cuota vale menos de la mitad que la primera en términos reales?\n",
    "\n",
    "4. Implemente un sistema de amortización con cuotas crecientes, donde cada cuota es un porcentaje mayor que la anterior (por ejemplo, 2% más cada mes). Compare este sistema con el francés y el alemán. ¿En qué situaciones sería útil este sistema?"
   ]
  }
 ],
 "metadata": {
  "kernelspec": {
   "display_name": "Python 3",
   "language": "python",
   "name": "python3"
  },
  "language_info": {
   "codemirror_mode": {
    "name": "ipython",
    "version": 3
   },
   "file_extension": ".py",
   "mimetype": "text/x-python",
   "name": "python",
   "nbconvert_exporter": "python",
   "pygments_lexer": "ipython3",
   "version": "3.8.10"
  }
 },
 "nbformat": 4,
 "nbformat_minor": 4
}