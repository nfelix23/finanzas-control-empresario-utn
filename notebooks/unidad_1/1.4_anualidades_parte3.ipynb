{
 "cells": [
  {
   "cell_type": "markdown",
   "metadata": {},
   "source": [
    "# 1.4 Anualidades y Perpetuidades - Parte 3: Perpetuidades y Casos Especiales\n",
    "\n",
    "**Finanzas y Control Empresario - UTN La Plata**  \n",
    "**Unidad 1: Fundamentos y Valor del Dinero en el Tiempo**\n",
    "\n",
    "## Objetivos\n",
    "- Comprender el concepto y aplicaciones de perpetuidades\n",
    "- Implementar cálculos para anualidades con crecimiento\n",
    "- Analizar casos especiales como flujos de efectivo irregulares"
   ]
  },
  {
   "cell_type": "code",
   "execution_count": null,
   "metadata": {},
   "outputs": [],
   "source": [
    "import numpy as np\n",
    "import pandas as pd\n",
    "import matplotlib.pyplot as plt\n",
    "import seaborn as sns\n",
    "\n",
    "plt.style.use('seaborn-whitegrid')\n",
    "plt.rcParams['figure.figsize'] = [10, 6]"
   ]
  },
  {
   "cell_type": "markdown",
   "metadata": {},
   "source": [
    "## Perpetuidades\n",
    "\n",
    "Las perpetuidades son flujos de efectivo que continúan indefinidamente. La fórmula para su valor presente es:\n",
    "\n",
    "$$VP = \\frac{PMT}{r}$$"
   ]
  },
  {
   "cell_type": "code",
   "execution_count": null,
   "metadata": {},
   "outputs": [],
   "source": [
    "def va_perpetuidad(pago, tasa):\n",
    "    return pago / tasa\n",
    "\n",
    "# Ejemplo: Bono perpetuo\n",
    "pago_anual = 5000  # $5,000 por año\n",
    "tasa_anual = 0.12  # 12% anual\n",
    "valor_bono = va_perpetuidad(pago_anual, tasa_anual)\n",
    "\n",
    "print(f\"Pago anual: ${pago_anual:,.2f}\")\n",
    "print(f\"Tasa anual: {tasa_anual:.2%}\")\n",
    "print(f\"Valor del bono perpetuo: ${valor_bono:,.2f}\")"
   ]
  },
  {
   "cell_type": "code",
   "execution_count": null,
   "metadata": {},
   "outputs": [],
   "source": [
    "# Sensibilidad a la tasa de interés\n",
    "tasas = np.linspace(0.02, 0.25, 100)\n",
    "valores = [va_perpetuidad(pago_anual, t) for t in tasas]\n",
    "\n",
    "plt.figure(figsize=(10, 6))\n",
    "plt.plot(tasas * 100, valores, 'b-', linewidth=2)\n",
    "plt.title('Valor de una Perpetuidad según Tasa de Interés')\n",
    "plt.xlabel('Tasa de Interés (%)')\n",
    "plt.ylabel('Valor Presente ($)')\n",
    "plt.grid(True, alpha=0.3)\n",
    "plt.show()"
   ]
  },
  {
   "cell_type": "markdown",
   "metadata": {},
   "source": [
    "## Perpetuidades con Crecimiento\n",
    "\n",
    "En muchos casos prácticos, los flujos crecen en el tiempo (ej. dividendos o alquileres). La fórmula para una perpetuidad con crecimiento es:\n",
    "\n",
    "$$VP = \\frac{PMT}{r-g}$$\n",
    "\n",
    "Donde:\n",
    "- g = tasa de crecimiento (debe ser menor que r)"
   ]
  },
  {
   "cell_type": "code",
   "execution_count": null,
   "metadata": {},
   "outputs": [],
   "source": [
    "def va_perpetuidad_creciente(pago, tasa, crecimiento):\n",
    "    if tasa <= crecimiento:\n",
    "        raise ValueError(\"La tasa debe ser mayor al crecimiento\")\n",
    "    return pago / (tasa - crecimiento)\n",
    "\n",
    "# Ejemplo: Valuación de una acción (Modelo de Gordon)\n",
    "dividendo_actual = 50  # $50 por acción\n",
    "tasa_descuento = 0.15  # 15% anual\n",
    "tasa_crecimiento = 0.05  # 5% anual\n",
    "\n",
    "valor_accion = va_perpetuidad_creciente(dividendo_actual, tasa_descuento, tasa_crecimiento)\n",
    "\n",
    "print(f\"Dividendo actual: ${dividendo_actual:.2f}\")\n",
    "print(f\"Tasa de descuento: {tasa_descuento:.2%}\")\n",
    "print(f\"Tasa de crecimiento: {tasa_crecimiento:.2%}\")\n",
    "print(f\"Valor estimado de la acción: ${valor_accion:.2f}\")"
   ]
  },
  {
   "cell_type": "markdown",
   "metadata": {},
   "source": [
    "### Análisis de sensibilidad al crecimiento"
   ]
  },
  {
   "cell_type": "code",
   "execution_count": null,
   "metadata": {},
   "outputs": [],
   "source": [
    "# Analizar sensibilidad a la tasa de crecimiento\n",
    "crecimientos = np.linspace(0.01, tasa_descuento - 0.01, 50)\n",
    "valores_accion = [va_perpetuidad_creciente(dividendo_actual, tasa_descuento, g) for g in crecimientos]\n",
    "\n",
    "plt.figure(figsize=(10, 6))\n",
    "plt.plot(crecimientos * 100, valores_accion, 'r-', linewidth=2)\n",
    "plt.title('Valor de una Acción según Tasa de Crecimiento')\n",
    "plt.xlabel('Tasa de Crecimiento (%)')\n",
    "plt.ylabel('Precio de la Acción ($)')\n",
    "plt.grid(True, alpha=0.3)\n",
    "plt.show()"
   ]
  },
  {
   "cell_type": "markdown",
   "metadata": {},
   "source": [
    "## Anualidades con Crecimiento\n",
    "\n",
    "Las anualidades pueden tener también un patrón de crecimiento. Este es un caso más complejo pero muy útil en finanzas."
   ]
  },
  {
   "cell_type": "code",
   "execution_count": null,
   "metadata": {},
   "outputs": [],
   "source": [
    "def va_anualidad_creciente(pago_inicial, tasa, periodos, crecimiento):\n",
    "    \"\"\"\n",
    "    Calcula el valor actual de una anualidad con crecimiento constante\n",
    "    \n",
    "    Parámetros:\n",
    "    pago_inicial (float): Pago del primer período\n",
    "    tasa (float): Tasa de interés por período\n",
    "    periodos (int): Número de períodos\n",
    "    crecimiento (float): Tasa de crecimiento por período\n",
    "    \"\"\"\n",
    "    if tasa == crecimiento:\n",
    "        # Caso especial cuando tasa = crecimiento\n",
    "        return pago_inicial * periodos / (1 + tasa)\n",
    "    \n",
    "    factor = (1 - ((1 + crecimiento) / (1 + tasa)) ** periodos) / (tasa - crecimiento)\n",
    "    return pago_inicial * factor\n",
    "\n",
    "# Ejemplo: Contrato de alquiler con aumentos\n",
    "alquiler_inicial = 100000  # $100,000 mensuales\n",
    "tasa_mensual = 0.06  # 6% mensual\n",
    "plazo_meses = 24  # 2 años\n",
    "aumento_mensual = 0.05  # 5% mensual\n",
    "\n",
    "valor_contrato = va_anualidad_creciente(alquiler_inicial, tasa_mensual, plazo_meses, aumento_mensual)\n",
    "\n",
    "print(f\"Alquiler inicial: ${alquiler_inicial:,.2f}\")\n",
    "print(f\"Tasa mensual: {tasa_mensual:.2%}\")\n",
    "print(f\"Aumento mensual: {aumento_mensual:.2%}\")\n",
    "print(f\"Plazo: {plazo_meses} meses\")\n",
    "print(f\"Valor presente del contrato: ${valor_contrato:,.2f}\")"
   ]
  },
  {
   "cell_type": "markdown",
   "metadata": {},
   "source": [
    "### Visualización de flujos crecientes"
   ]
  },
  {
   "cell_type": "code",
   "execution_count": null,
   "metadata": {},
   "outputs": [],
   "source": [
    "# Visualizar flujos de una anualidad creciente\n",
    "periodos = np.arange(1, plazo_meses + 1)\n",
    "flujos = [alquiler_inicial * (1 + aumento_mensual) ** (t - 1) for t in periodos]\n",
    "flujos_va = [flujo / (1 + tasa_mensual) ** t for t, flujo in zip(periodos, flujos)]\n",
    "\n",
    "plt.figure(figsize=(10, 6))\n",
    "plt.bar(periodos, flujos, alpha=0.7, label=f'Flujos Nominales (Total: ${sum(flujos):,.0f})')\n",
    "plt.bar(periodos, flujos_va, alpha=0.7, label=f'Flujos VA (Total: ${sum(flujos_va):,.0f})')\n",
    "plt.axhline(y=alquiler_inicial, color='r', linestyle='--', label=f'Alquiler Inicial: ${alquiler_inicial:,.0f}')\n",
    "\n",
    "plt.title('Flujos de Alquiler con Incremento Mensual')\n",
    "plt.xlabel('Mes')\n",
    "plt.ylabel('Alquiler Mensual ($)')\n",
    "plt.legend()\n",
    "plt.grid(True, alpha=0.3)\n",
    "plt.show()"
   ]
  },
  {
   "cell_type": "markdown",
   "metadata": {},
   "source": [
    "## Aplicaciones Prácticas\n",
    "\n",
    "### Ejemplo 1: Valoración de una propiedad de alquiler"
   ]
  },
  {
   "cell_type": "code",
   "execution_count": null,
   "metadata": {},
   "outputs": [],
   "source": [
    "# Datos del ejemplo\n",
    "alquiler_mensual_inicial = 120000  # $120,000 mensuales\n",
    "ajuste_anual = 0.50  # 50% de ajuste anual\n",
    "ajuste_mensual = (1 + ajuste_anual) ** (1/12) - 1  # Convertido a mensual\n",
    "tasa_descuento_anual = 0.60  # 60% anual\n",
    "tasa_descuento_mensual = (1 + tasa_descuento_anual) ** (1/12) - 1\n",
    "vida_util = 30 * 12  # 30 años en meses\n",
    "\n",
    "# Calcular como perpetuidad creciente (simplificación)\n",
    "valor_perpetuidad = va_perpetuidad_creciente(alquiler_mensual_inicial, tasa_descuento_mensual, ajuste_mensual)\n",
    "\n",
    "# Calcular como anualidad creciente con vida finita\n",
    "valor_finito = va_anualidad_creciente(alquiler_mensual_inicial, tasa_descuento_mensual, vida_util, ajuste_mensual)\n",
    "\n",
    "print(f\"Alquiler mensual inicial: ${alquiler_mensual_inicial:,.2f}\")\n",
    "print(f\"Ajuste anual: {ajuste_anual:.2%}\")\n",
    "print(f\"Tasa de descuento anual: {tasa_descuento_anual:.2%}\")\n",
    "print(f\"\\nValoración como perpetuidad: ${valor_perpetuidad:,.2f}\")\n",
    "print(f\"Valoración a 30 años: ${valor_finito:,.2f}\")\n",
    "print(f\"Diferencia: ${valor_perpetuidad - valor_finito:,.2f} ({(valor_perpetuidad/valor_finito - 1):.2%})\")"
   ]
  },
  {
   "cell_type": "markdown",
   "metadata": {},
   "source": [
    "### Ejemplo 2: Análisis de inversión en acciones con crecimiento de dividendos"
   ]
  },
  {
   "cell_type": "code",
   "execution_count": null,
   "metadata": {},
   "outputs": [],
   "source": [
    "# Modelo de descuento de dividendos en dos etapas\n",
    "def modelo_dos_etapas(dividendo_actual, g1, t1, g2, tasa):\n",
    "    \"\"\"\n",
    "    Modelo de crecimiento en dos etapas\n",
    "    \n",
    "    Parámetros:\n",
    "    dividendo_actual (float): Dividendo del último año\n",
    "    g1 (float): Tasa de crecimiento en primera etapa\n",
    "    t1 (int): Duración de la primera etapa\n",
    "    g2 (float): Tasa de crecimiento en segunda etapa (perpetuidad)\n",
    "    tasa (float): Tasa de descuento requerida\n",
    "    \"\"\"\n",
    "    # Valor presente de dividendos en primera etapa\n",
    "    vp_etapa1 = 0\n",
    "    for t in range(1, t1 + 1):\n",
    "        dt = dividendo_actual * (1 + g1) ** t\n",
    "        vp_etapa1 += dt / (1 + tasa) ** t\n",
    "    \n",
    "    # Valor presente de perpetuidad en segunda etapa\n",
    "    dt1 = dividendo_actual * (1 + g1) ** t1 * (1 + g2)\n",
    "    vp_etapa2 = (dt1 / (tasa - g2)) / (1 + tasa) ** t1\n",
    "    \n",
    "    return vp_etapa1 + vp_etapa2\n",
    "\n",
    "# Ejemplo: Valuación de una acción de crecimiento\n",
    "dividendo_actual = 30  # $30 por acción\n",
    "g1 = 0.25  # 25% crecimiento alto inicial\n",
    "t1 = 5  # 5 años de alto crecimiento\n",
    "g2 = 0.04  # 4% crecimiento sostenible a largo plazo\n",
    "tasa = 0.15  # 15% tasa de descuento\n",
    "\n",
    "valor_accion = modelo_dos_etapas(dividendo_actual, g1, t1, g2, tasa)\n",
    "\n",
    "print(f\"Dividendo actual: ${dividendo_actual:.2f}\")\n",
    "print(f\"Crecimiento primera etapa: {g1:.2%} durante {t1} años\")\n",
    "print(f\"Crecimiento segunda etapa (perpetuo): {g2:.2%}\")\n",
    "print(f\"Tasa de descuento: {tasa:.2%}\")\n",
    "print(f\"\\nValoración de la acción: ${valor_accion:.2f}\")"
   ]
  },
  {
   "cell_type": "markdown",
   "metadata": {},
   "source": [
    "## Ejercicios propuestos - Parte 3\n",
    "\n",
    "1. Una empresa paga actualmente un dividendo anual de $45 por acción, que se espera crezca a una tasa del 8% anual indefinidamente. Si su tasa de rendimiento requerida es del 14%, calcule el precio teórico de la acción.\n",
    "\n",
    "2. Un contrato de alquiler establece un pago inicial de $80,000 mensuales, con incrementos del 6% mensual durante 18 meses. Si la tasa de descuento es del 5% mensual, calcule el valor presente del contrato.\n",
    "\n",
    "3. Considere una acción que no paga dividendos durante los primeros 3 años, luego paga $20 en el año 4, y a partir de ahí los dividendos crecen a un 5% anual indefinidamente. Si la tasa de descuento es del 12%, ¿cuál es el valor justo de la acción?\n",
    "\n",
    "4. Si el rendimiento de un bono perpetuo baja del 10% al 8%, ¿en qué porcentaje aumenta su precio? Explique por qué las perpetuidades son más sensibles a cambios en las tasas de interés que las anualidades de plazo fijo."
   ]
  }
 ],
 "metadata": {
  "kernelspec": {
   "display_name": "Python 3",
   "language": "python",
   "name": "python3"
  },
  "language_info": {
   "codemirror_mode": {
    "name": "ipython",
    "version": 3
   },
   "file_extension": ".py",
   "mimetype": "text/x-python",
   "name": "python",
   "nbconvert_exporter": "python",
   "pygments_lexer": "ipython3",
   "version": "3.8.10"
  }
 },
 "nbformat": 4,
 "nbformat_minor": 4
}