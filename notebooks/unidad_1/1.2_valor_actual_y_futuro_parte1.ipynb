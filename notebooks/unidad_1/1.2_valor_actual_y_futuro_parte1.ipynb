{
 "cells": [
  {
   "cell_type": "markdown",
   "metadata": {},
   "source": [
    "# 1.2 Valor Actual y Futuro - Parte 1: Fundamentos\n",
    "\n",
    "**Finanzas y Control Empresario - UTN La Plata**  \n",
    "**Unidad 1: Fundamentos y Valor del Dinero en el Tiempo**\n",
    "\n",
    "## Objetivos\n",
    "- Implementar fórmulas para el cálculo del valor presente y valor futuro\n",
    "- Analizar el impacto de diferentes tasas de interés y períodos de tiempo\n",
    "- Aplicar estos conceptos a problemas financieros reales en el contexto argentino\n",
    "- Visualizar gráficamente el comportamiento del dinero en el tiempo\n",
    "\n",
    "## Introducción\n",
    "\n",
    "El valor temporal del dinero permite cuantificar matemáticamente cómo cambia el valor del dinero a través del tiempo. Las dos operaciones fundamentales son:\n",
    "\n",
    "- **Capitalización**: proceso de llevar un valor presente a un valor futuro\n",
    "- **Descuento**: proceso de traer un valor futuro a un valor presente\n",
    "\n",
    "Estas operaciones son esenciales para la toma de decisiones financieras informadas, ya que permiten comparar flujos de efectivo que ocurren en diferentes momentos del tiempo."
   ]
  },
  {
   "cell_type": "markdown",
   "metadata": {},
   "source": [
    "## Fundamentos matemáticos\n",
    "\n",
    "### Valor Futuro\n",
    "\n",
    "El valor futuro (VF) de una cantidad presente (VP) después de $n$ períodos a una tasa de interés $r$ por período se calcula como:\n",
    "\n",
    "$$VF = VP \\times (1 + r)^n$$\n",
    "\n",
    "### Valor Presente\n",
    "\n",
    "El valor presente (VP) de una cantidad futura (VF) a recibir en $n$ períodos, descontada a una tasa $r$ por período se calcula como:\n",
    "\n",
    "$$VP = \\frac{VF}{(1 + r)^n}$$\n",
    "\n",
    "Estas fórmulas son la base para el análisis financiero y la valoración de activos."
   ]
  },
  {
   "cell_type": "code",
   "execution_count": null,
   "metadata": {},
   "outputs": [],
   "source": [
    "# Importamos las bibliotecas necesarias\n",
    "import numpy as np\n",
    "import pandas as pd\n",
    "import matplotlib.pyplot as plt\n",
    "import seaborn as sns\n",
    "\n",
    "# Configuración para visualizaciones\n",
    "plt.style.use('seaborn-whitegrid')\n",
    "sns.set_palette(\"deep\")\n",
    "plt.rcParams['figure.figsize'] = [12, 7]\n",
    "plt.rcParams['font.size'] = 12"
   ]
  },
  {
   "cell_type": "markdown",
   "metadata": {},
   "source": [
    "## Implementación de funciones para el valor temporal del dinero\n",
    "\n",
    "A continuación implementamos las funciones básicas para calcular el valor futuro y el valor presente:"
   ]
  },
  {
   "cell_type": "code",
   "execution_count": null,
   "metadata": {},
   "outputs": [],
   "source": [
    "def valor_futuro(va, tasa, periodos):\n",
    "    \"\"\"\n",
    "    Calcula el valor futuro de una inversión\n",
    "    \n",
    "    Parámetros:\n",
    "    va (float): Valor actual o inversión inicial\n",
    "    tasa (float): Tasa de interés (en decimales, ej: 0.10 para 10%)\n",
    "    periodos (int): Número de períodos\n",
    "    \n",
    "    Retorna:\n",
    "    float: Valor futuro\n",
    "    \"\"\"\n",
    "    return va * (1 + tasa) ** periodos\n",
    "\n",
    "def valor_actual(vf, tasa, periodos):\n",
    "    \"\"\"\n",
    "    Calcula el valor actual de un monto futuro\n",
    "    \n",
    "    Parámetros:\n",
    "    vf (float): Valor futuro\n",
    "    tasa (float): Tasa de interés (en decimales)\n",
    "    periodos (int): Número de períodos\n",
    "    \n",
    "    Retorna:\n",
    "    float: Valor actual\n",
    "    \"\"\"\n",
    "    return vf / (1 + tasa) ** periodos"
   ]
  },
  {
   "cell_type": "markdown",
   "metadata": {},
   "source": [
    "## Ejemplos prácticos en contexto argentino\n",
    "\n",
    "### Ejemplo 1: Plazo fijo en pesos"
   ]
  },
  {
   "cell_type": "code",
   "execution_count": null,
   "metadata": {},
   "outputs": [],
   "source": [
    "# Datos del ejemplo\n",
    "inversion_inicial = 100000  # $100,000 ARS\n",
    "tasa_anual = 0.95  # 95% anual (ejemplo tasa plazo fijo 2024)\n",
    "plazo_anios = 1\n",
    "\n",
    "vf = valor_futuro(inversion_inicial, tasa_anual, plazo_anios)\n",
    "print(f\"Inversión inicial: ${inversion_inicial:,.2f}\")\n",
    "print(f\"Tasa anual: {tasa_anual:.2%}\")\n",
    "print(f\"Valor futuro después de {plazo_anios} año: ${vf:,.2f}\")\n",
    "print(f\"Rendimiento nominal: ${vf - inversion_inicial:,.2f} ({(vf - inversion_inicial) / inversion_inicial:.2%})\")"
   ]
  },
  {
   "cell_type": "markdown",
   "metadata": {},
   "source": [
    "### Visualización del crecimiento de una inversión a lo largo del tiempo"
   ]
  },
  {
   "cell_type": "code",
   "execution_count": null,
   "metadata": {},
   "outputs": [],
   "source": [
    "def graficar_crecimiento(va, tasa_anual, meses):\n",
    "    \"\"\"\n",
    "    Genera un gráfico que muestra el crecimiento de una inversión en el tiempo\n",
    "    \n",
    "    Parámetros:\n",
    "    va (float): Valor actual o inversión inicial\n",
    "    tasa_anual (float): Tasa de interés anual (en decimales)\n",
    "    meses (int): Cantidad de meses a proyectar\n",
    "    \"\"\"\n",
    "    tasa_mensual = (1 + tasa_anual) ** (1/12) - 1\n",
    "    periodos = np.arange(meses + 1)\n",
    "    valores = [valor_futuro(va, tasa_mensual, p) for p in periodos]\n",
    "    \n",
    "    plt.figure(figsize=(12, 6))\n",
    "    plt.plot(periodos, valores, 'b-', label='Valor de la inversión')\n",
    "    plt.title(f'Crecimiento de una inversión de ${va:,.2f} al {tasa_anual:.2%} anual')\n",
    "    plt.xlabel('Meses')\n",
    "    plt.ylabel('Valor ($)')\n",
    "    plt.grid(True)\n",
    "    plt.legend()\n",
    "    \n",
    "    # Añadir etiquetas para valores inicial y final\n",
    "    plt.annotate(f'${va:,.2f}', xy=(0, va), xytext=(0, va*1.1),\n",
    "                 arrowprops=dict(facecolor='black', shrink=0.05, width=1.5))\n",
    "    \n",
    "    valor_final = valores[-1]\n",
    "    plt.annotate(f'${valor_final:,.2f}', xy=(meses, valor_final), \n",
    "                 xytext=(meses*0.9, valor_final*1.1),\n",
    "                 arrowprops=dict(facecolor='black', shrink=0.05, width=1.5))\n",
    "    \n",
    "    plt.tight_layout()\n",
    "    return plt\n",
    "\n",
    "# Generar gráfico\n",
    "graficar_crecimiento(inversion_inicial, tasa_anual, 12)\n",
    "plt.show()"
   ]
  },
  {
   "cell_type": "markdown",
   "metadata": {},
   "source": [
    "### Ejemplo 2: Valor presente de un monto futuro\n",
    "\n",
    "Calculemos cuánto debemos invertir hoy para obtener un monto específico en el futuro."
   ]
  },
  {
   "cell_type": "code",
   "execution_count": null,
   "metadata": {},
   "outputs": [],
   "source": [
    "# Monto deseado en el futuro\n",
    "monto_necesario = 500000  # $500,000 ARS para comprar un equipo\n",
    "plazo_anios = 2  # En 2 años\n",
    "tasa_anual = 0.95  # 95% anual\n",
    "\n",
    "# Calcular cuánto necesitamos invertir hoy\n",
    "inversion_requerida = valor_actual(monto_necesario, tasa_anual, plazo_anios)\n",
    "\n",
    "print(f\"Monto necesario en {plazo_anios} años: ${monto_necesario:,.2f}\")\n",
    "print(f\"Tasa anual: {tasa_anual:.2%}\")\n",
    "print(f\"Inversión requerida hoy: ${inversion_requerida:,.2f}\")\n",
    "print(f\"Esto representa un {inversion_requerida/monto_necesario:.2%} del monto final\")"
   ]
  },
  {
   "cell_type": "markdown",
   "metadata": {},
   "source": [
    "## Ejercicios propuestos - Parte 1\n",
    "\n",
    "1. Una empresa necesita comprar un equipo que cuesta $3,000,000 dentro de 3 años. Si puede invertir a una tasa anual del 85%, ¿cuánto dinero debe depositar hoy?\n",
    "\n",
    "2. Si inviertes $50,000 a una tasa del 95% anual:\n",
    "   - ¿Cuánto tendrás en 6 meses?\n",
    "   - ¿Cuánto tendrás en 2 años?\n",
    "   - ¿Cuánto tiempo te tomará llegar a $200,000?\n",
    "\n",
    "3. Compara dos inversiones: Una ofrece el 80% anual capitalizable mensualmente, y otra ofrece el 83% anual capitalizable trimestralmente. ¿Cuál es mejor si planeas invertir por un año completo?"
   ]
  }
 ],
 "metadata": {
  "kernelspec": {
   "display_name": "Python 3",
   "language": "python",
   "name": "python3"
  },
  "language_info": {
   "codemirror_mode": {
    "name": "ipython",
    "version": 3
   },
   "file_extension": ".py",
   "mimetype": "text/x-python",
   "name": "python",
   "nbconvert_exporter": "python",
   "pygments_lexer": "ipython3",
   "version": "3.8.10"
  }
 },
 "nbformat": 4,
 "nbformat_minor": 4
}