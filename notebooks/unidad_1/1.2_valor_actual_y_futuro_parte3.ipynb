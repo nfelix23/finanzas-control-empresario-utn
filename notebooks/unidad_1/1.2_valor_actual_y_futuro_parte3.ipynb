{
 "cells": [
  {
   "cell_type": "markdown",
   "metadata": {},
   "source": [
    "# 1.2 Valor Actual y Futuro - Parte 3: Evaluación de Alternativas\n",
    "\n",
    "**Finanzas y Control Empresario - UTN La Plata**  \n",
    "**Unidad 1: Fundamentos y Valor del Dinero en el Tiempo**\n",
    "\n",
    "## Objetivos\n",
    "- Utilizar el valor temporal del dinero para evaluar alternativas de inversión\n",
    "- Implementar el cálculo del Valor Actual Neto (VAN)\n",
    "- Realizar análisis de sensibilidad a la tasa de descuento\n",
    "- Comprender el concepto de tasa de indiferencia\n",
    "\n",
    "## Configuración inicial"
   ]
  },
  {
   "cell_type": "code",
   "execution_count": null,
   "metadata": {},
   "outputs": [],
   "source": [
    "# Importamos las bibliotecas necesarias\n",
    "import numpy as np\n",
    "import pandas as pd\n",
    "import matplotlib.pyplot as plt\n",
    "import seaborn as sns\n",
    "\n",
    "# Configuración para visualizaciones\n",
    "plt.style.use('seaborn-whitegrid')\n",
    "sns.set_palette(\"deep\")\n",
    "plt.rcParams['figure.figsize'] = [12, 7]\n",
    "plt.rcParams['font.size'] = 12\n",
    "\n",
    "# Funciones básicas definidas en la Parte 1\n",
    "def valor_futuro(va, tasa, periodos):\n",
    "    return va * (1 + tasa) ** periodos\n",
    "\n",
    "def valor_actual(vf, tasa, periodos):\n",
    "    return vf / (1 + tasa) ** periodos"
   ]
  },
  {
   "cell_type": "markdown",
   "metadata": {},
   "source": [
    "## Aplicación: Evaluación de alternativas de inversión\n",
    "\n",
    "Comparemos dos alternativas de inversión con diferentes flujos de efectivo en el tiempo.\n",
    "\n",
    "### Función para calcular el Valor Actual Neto (VAN)"
   ]
  },
  {
   "cell_type": "code",
   "execution_count": null,
   "metadata": {},
   "outputs": [],
   "source": [
    "def calcular_van(inversion_inicial, flujos, tasa):\n",
    "    \"\"\"\n",
    "    Calcula el Valor Actual Neto de una serie de flujos de efectivo\n",
    "    \n",
    "    Parámetros:\n",
    "    inversion_inicial (float): Inversión inicial (valor positivo)\n",
    "    flujos (list): Lista de flujos de efectivo futuros\n",
    "    tasa (float): Tasa de descuento\n",
    "    \n",
    "    Retorna:\n",
    "    float: Valor Actual Neto\n",
    "    \"\"\"\n",
    "    van = -inversion_inicial\n",
    "    for i, flujo in enumerate(flujos, 1):\n",
    "        van += valor_actual(flujo, tasa, i)\n",
    "    return van"
   ]
  },
  {
   "cell_type": "markdown",
   "metadata": {},
   "source": [
    "### Definición de las alternativas\n",
    "\n",
    "Evaluaremos dos alternativas típicas de inversión en el contexto argentino:"
   ]
  },
  {
   "cell_type": "code",
   "execution_count": null,
   "metadata": {},
   "outputs": [],
   "source": [
    "# Alternativas de inversión\n",
    "alternativa_A = {\n",
    "    'nombre': 'Plazo Fijo UVA',\n",
    "    'inversion_inicial': 200000,\n",
    "    'flujos': [0, 0, 300000],  # Flujos en años 1, 2 y 3\n",
    "    'tasa_estimada': 0.10  # 10% real (sobre inflación)\n",
    "}\n",
    "\n",
    "alternativa_B = {\n",
    "    'nombre': 'Bono corporativo',\n",
    "    'inversion_inicial': 200000,\n",
    "    'flujos': [40000, 40000, 240000],  # Flujos en años 1, 2 y 3\n",
    "    'tasa_estimada': 0.14  # 14% real (sobre inflación)\n",
    "}\n",
    "\n",
    "# Tasa de descuento para comparar (costo de oportunidad)\n",
    "tasa_descuento = 0.12  # 12% real anual"
   ]
  },
  {
   "cell_type": "markdown",
   "metadata": {},
   "source": [
    "### Evaluación de las alternativas\n",
    "\n",
    "Calculamos el VAN para cada alternativa:"
   ]
  },
  {
   "cell_type": "code",
   "execution_count": null,
   "metadata": {},
   "outputs": [],
   "source": [
    "# Calcular VAN para ambas alternativas\n",
    "van_A = calcular_van(alternativa_A['inversion_inicial'], alternativa_A['flujos'], tasa_descuento)\n",
    "van_B = calcular_van(alternativa_B['inversion_inicial'], alternativa_B['flujos'], tasa_descuento)\n",
    "\n",
    "# Mostrar resultados\n",
    "print(f\"Evaluación de alternativas de inversión (tasa de descuento: {tasa_descuento:.2%}):\\n\")\n",
    "print(f\"Alternativa A: {alternativa_A['nombre']}\")\n",
    "print(f\"  Inversión inicial: ${alternativa_A['inversion_inicial']:,.2f}\")\n",
    "print(f\"  Flujos esperados: {[f'${f:,.2f}' for f in alternativa_A['flujos']]}\")\n",
    "print(f\"  Rendimiento estimado: {alternativa_A['tasa_estimada']:.2%}\")\n",
    "print(f\"  VAN: ${van_A:,.2f}\\n\")\n",
    "\n",
    "print(f\"Alternativa B: {alternativa_B['nombre']}\")\n",
    "print(f\"  Inversión inicial: ${alternativa_B['inversion_inicial']:,.2f}\")\n",
    "print(f\"  Flujos esperados: {[f'${f:,.2f}' for f in alternativa_B['flujos']]}\")\n",
    "print(f\"  Rendimiento estimado: {alternativa_B['tasa_estimada']:.2%}\")\n",
    "print(f\"  VAN: ${van_B:,.2f}\\n\")\n",
    "\n",
    "if van_A > van_B:\n",
    "    print(f\"Recomendación: Alternativa A ofrece mayor valor (${van_A-van_B:,.2f} más)\")\n",
    "else:\n",
    "    print(f\"Recomendación: Alternativa B ofrece mayor valor (${van_B-van_A:,.2f} más)\")"
   ]
  },
  {
   "cell_type": "markdown",
   "metadata": {},
   "source": [
    "## Análisis de sensibilidad a la tasa de descuento\n",
    "\n",
    "Analicemos cómo cambia la decisión según la tasa de descuento utilizada."
   ]
  },
  {
   "cell_type": "code",
   "execution_count": null,
   "metadata": {},
   "outputs": [],
   "source": [
    "# Rango de tasas de descuento para análisis\n",
    "tasas_analisis = np.linspace(0.05, 0.25, 20)  # 5% a 25%\n",
    "\n",
    "# Calcular VAN para ambas alternativas con diferentes tasas\n",
    "van_A_lista = [calcular_van(alternativa_A['inversion_inicial'], alternativa_A['flujos'], t) for t in tasas_analisis]\n",
    "van_B_lista = [calcular_van(alternativa_B['inversion_inicial'], alternativa_B['flujos'], t) for t in tasas_analisis]\n",
    "\n",
    "# Crear gráfico\n",
    "plt.figure(figsize=(12, 6))\n",
    "plt.plot(tasas_analisis*100, van_A_lista, 'b-', linewidth=2, label=alternativa_A['nombre'])\n",
    "plt.plot(tasas_analisis*100, van_B_lista, 'r-', linewidth=2, label=alternativa_B['nombre'])\n",
    "plt.axhline(y=0, color='gray', linestyle='--')\n",
    "\n",
    "plt.title('Análisis de sensibilidad del VAN a la tasa de descuento', fontsize=16)\n",
    "plt.xlabel('Tasa de descuento (%)', fontsize=14)\n",
    "plt.ylabel('VAN ($)', fontsize=14)\n",
    "plt.grid(True, alpha=0.3)\n",
    "plt.legend(fontsize=12)"
   ]
  },
  {
   "cell_type": "markdown",
   "metadata": {},
   "source": [
    "### Tasa de indiferencia\n",
    "\n",
    "La tasa de indiferencia es aquella en la que ambas alternativas generan el mismo VAN. Es importante para entender cómo depende nuestra decisión del costo de oportunidad considerado."
   ]
  },
  {
   "cell_type": "code",
   "execution_count": null,
   "metadata": {},
   "outputs": [],
   "source": [
    "# Encontrar tasa donde VAN_A = VAN_B (TIR diferencial)\n",
    "dif_van = np.array(van_A_lista) - np.array(van_B_lista)\n",
    "idx_cercano_cero = np.abs(dif_van).argmin()\n",
    "tasa_indiferencia = tasas_analisis[idx_cercano_cero]\n",
    "\n",
    "# Añadir al gráfico anterior\n",
    "plt.axvline(x=tasa_indiferencia*100, color='g', linestyle='--')\n",
    "plt.annotate(f'Tasa de indiferencia: {tasa_indiferencia:.2%}', \n",
    "             xy=(tasa_indiferencia*100, 0),\n",
    "             xytext=(tasa_indiferencia*100+2, 5000),\n",
    "             arrowprops=dict(facecolor='green', shrink=0.05))\n",
    "\n",
    "plt.tight_layout()\n",
    "plt.show()\n",
    "\n",
    "print(f\"Tasa de indiferencia: {tasa_indiferencia:.2%}\")\n",
    "print(f\"Si la tasa de descuento < {tasa_indiferencia:.2%}: Preferir {alternativa_A['nombre']}\")\n",
    "print(f\"Si la tasa de descuento > {tasa_indiferencia:.2%}: Preferir {alternativa_B['nombre']}\")"
   ]
  },
  {
   "cell_type": "markdown",
   "metadata": {},
   "source": [
    "## TIR (Tasa Interna de Retorno)\n",
    "\n",
    "La TIR es la tasa de descuento que hace que el VAN sea cero. Representa el rendimiento esperado de la inversión."
   ]
  },
  {
   "cell_type": "code",
   "execution_count": null,
   "metadata": {},
   "outputs": [],
   "source": [
    "from scipy.optimize import newton\n",
    "\n",
    "def funcion_van_A(tasa):\n",
    "    \"\"\"Función auxiliar para calcular TIR de alternativa A\"\"\"\n",
    "    return calcular_van(alternativa_A['inversion_inicial'], alternativa_A['flujos'], tasa)\n",
    "\n",
    "def funcion_van_B(tasa):\n",
    "    \"\"\"Función auxiliar para calcular TIR de alternativa B\"\"\"\n",
    "    return calcular_van(alternativa_B['inversion_inicial'], alternativa_B['flujos'], tasa)\n",
    "\n",
    "# Calcular TIR usando el método numérico de Newton\n",
    "try:\n",
    "    tir_A = newton(funcion_van_A, x0=0.1)  # Estimación inicial de 10%\n",
    "    print(f\"TIR de {alternativa_A['nombre']}: {tir_A:.2%}\")\n",
    "except:\n",
    "    print(f\"No se pudo calcular la TIR para {alternativa_A['nombre']}\")\n",
    "    \n",
    "try:\n",
    "    tir_B = newton(funcion_van_B, x0=0.1)  # Estimación inicial de 10%\n",
    "    print(f\"TIR de {alternativa_B['nombre']}: {tir_B:.2%}\")\n",
    "except:\n",
    "    print(f\"No se pudo calcular la TIR para {alternativa_B['nombre']}\")"
   ]
  },
  {
   "cell_type": "markdown",
   "metadata": {},
   "source": [
    "## Impacto de la inflación en la evaluación de proyectos\n",
    "\n",
    "En un entorno de alta inflación como el argentino, es fundamental distinguir entre tasas reales y nominales al evaluar inversiones."
   ]
  },
  {
   "cell_type": "code",
   "execution_count": null,
   "metadata": {},
   "outputs": [],
   "source": [
    "# Función para convertir tasas reales a nominales\n",
    "def tasa_nominal(tasa_real, inflacion):\n",
    "    \"\"\"Convierte tasa real a nominal usando la ecuación de Fisher\"\"\"\n",
    "    return (1 + tasa_real) * (1 + inflacion) - 1\n",
    "\n",
    "# Análisis con diferentes tasas de inflación\n",
    "inflaciones = [0.40, 0.60, 0.80, 1.00, 1.20]  # 40% a 120%\n",
    "tasa_real = 0.12  # 12% real\n",
    "\n",
    "# Calcular tasas nominales equivalentes\n",
    "tasas_nominales = [tasa_nominal(tasa_real, inf) for inf in inflaciones]\n",
    "\n",
    "# Crear tabla comparativa\n",
    "tabla_inflacion = pd.DataFrame({\n",
    "    'Inflación Anual': [f\"{inf:.0%}\" for inf in inflaciones],\n",
    "    'Tasa Real': [f\"{tasa_real:.2%}\" for _ in inflaciones],\n",
    "    'Tasa Nominal Equivalente': [f\"{nom:.2%}\" for nom in tasas_nominales]\n",
    "})\n",
    "\n",
    "tabla_inflacion"
   ]
  },
  {
   "cell_type": "markdown",
   "metadata": {},
   "source": [
    "## Ejercicios propuestos - Parte 3\n",
    "\n",
    "1. Un inversor está evaluando tres alternativas de inversión:\n",
    "   - Proyecto A: Inversión inicial de $500,000 y flujos anuales de [$150,000, $200,000, $250,000, $100,000]\n",
    "   - Proyecto B: Inversión inicial de $700,000 y flujos anuales de [$300,000, $300,000, $300,000]\n",
    "   - Proyecto C: Inversión inicial de $400,000 y flujos anuales de [$100,000, $150,000, $200,000, $250,000]\n",
    "   \n",
    "   Calcule el VAN de cada proyecto con una tasa de descuento del 15% y determine cuál es la mejor opción. Realice un análisis de sensibilidad para tasas entre 10% y 25%.\n",
    "\n",
    "2. Para el Proyecto A del ejercicio anterior, determine su TIR y explique su significado económico.\n",
    "\n",
    "3. Suponga que la inflación esperada para los próximos 3 años en Argentina es de 80%, 60% y 40% respectivamente. Si su tasa de rendimiento real objetivo es del 15%, ¿qué tasas nominales debería exigir cada año para mantener su poder adquisitivo?"
   ]
  }
 ],
 "metadata": {
  "kernelspec": {
   "display_name": "Python 3",
   "language": "python",
   "name": "python3"
  },
  "language_info": {
   "codemirror_mode": {
    "name": "ipython",
    "version": 3
   },
   "file_extension": ".py",
   "mimetype": "text/x-python",
   "name": "python",
   "nbconvert_exporter": "python",
   "pygments_lexer": "ipython3",
   "version": "3.8.10"
  }
 },
 "nbformat": 4,
 "nbformat_minor": 4
}