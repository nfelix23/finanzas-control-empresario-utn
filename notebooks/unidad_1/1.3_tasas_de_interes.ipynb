{
 "cells": [
  {
   "cell_type": "markdown",
   "metadata": {},
   "source": [
    "# 1.3 Tasas de Interés\n",
    "\n",
    "**Finanzas y Control Empresario - UTN La Plata**  \n",
    "**Unidad 1: Fundamentos y Valor del Dinero en el Tiempo**\n",
    "\n",
    "## Objetivos\n",
    "- Comprender los diferentes tipos de tasas de interés\n",
    "- Implementar conversiones entre tasas nominales y efectivas\n",
    "- Analizar el impacto de la frecuencia de capitalización\n",
    "- Aplicar el concepto de tasa real en un contexto inflacionario como el argentino\n",
    "\n",
    "## Introducción\n",
    "\n",
    "Las tasas de interés son fundamentales en finanzas ya que establecen el precio del dinero en el tiempo. En esta unidad analizaremos los diferentes tipos de tasas y cómo convertir entre ellas, prestando especial atención al contexto argentino donde las altas tasas de inflación hacen esencial distinguir entre tasas nominales y reales."
   ]
  },
  {
   "cell_type": "code",
   "execution_count": null,
   "metadata": {},
   "outputs": [],
   "source": [
    "# Importamos las bibliotecas necesarias\n",
    "import numpy as np\n",
    "import pandas as pd\n",
    "import matplotlib.pyplot as plt\n",
    "import seaborn as sns\n",
    "\n",
    "# Configuración para visualizaciones\n",
    "plt.style.use('seaborn-whitegrid')\n",
    "sns.set_palette(\"deep\")\n",
    "plt.rcParams['figure.figsize'] = [12, 7]\n",
    "plt.rcParams['font.size'] = 12"
   ]
  },
  {
   "cell_type": "markdown",
   "metadata": {},
   "source": [
    "## Tipos de Tasas de Interés\n",
    "\n",
    "### 1. Tasa Nominal Anual (TNA)\n",
    "\n",
    "Es la tasa anunciada sin considerar la capitalización. Por ejemplo, una TNA del 60% no considera si los intereses se capitalizan mensual, trimestral o anualmente.\n",
    "\n",
    "### 2. Tasa Efectiva Anual (TEA)\n",
    "\n",
    "Es la tasa que efectivamente se recibe considerando la capitalización. Por ejemplo, una TNA del 60% capitalizable mensualmente genera una TEA mayor al 60% debido al efecto del interés compuesto.\n",
    "\n",
    "### 3. Tasa Real\n",
    "\n",
    "Es la tasa que considera el efecto de la inflación. Se calcula ajustando la tasa nominal por la inflación para determinar el rendimiento o costo real del dinero."
   ]
  },
  {
   "cell_type": "markdown",
   "metadata": {},
   "source": [
    "## Implementación de conversiones entre tasas"
   ]
  },
  {
   "cell_type": "code",
   "execution_count": null,
   "metadata": {},
   "outputs": [],
   "source": [
    "def tna_a_tea(tna, capitalizaciones_por_anio):\n",
    "    \"\"\"\n",
    "    Convierte Tasa Nominal Anual a Tasa Efectiva Anual\n",
    "    \n",
    "    Parámetros:\n",
    "    tna (float): Tasa Nominal Anual (en decimales)\n",
    "    capitalizaciones_por_anio (int): Número de capitalizaciones por año\n",
    "    \n",
    "    Retorna:\n",
    "    float: Tasa Efectiva Anual\n",
    "    \"\"\"\n",
    "    return (1 + tna/capitalizaciones_por_anio) ** capitalizaciones_por_anio - 1\n",
    "\n",
    "def tea_a_tna(tea, capitalizaciones_por_anio):\n",
    "    \"\"\"\n",
    "    Convierte Tasa Efectiva Anual a Tasa Nominal Anual\n",
    "    \n",
    "    Parámetros:\n",
    "    tea (float): Tasa Efectiva Anual (en decimales)\n",
    "    capitalizaciones_por_anio (int): Número de capitalizaciones por año\n",
    "    \n",
    "    Retorna:\n",
    "    float: Tasa Nominal Anual\n",
    "    \"\"\"\n",
    "    return capitalizaciones_por_anio * ((1 + tea) ** (1/capitalizaciones_por_anio) - 1)\n",
    "\n",
    "def tasa_real(tasa_nominal, inflacion):\n",
    "    \"\"\"\n",
    "    Calcula la tasa real usando la fórmula de Fisher\n",
    "    \n",
    "    Parámetros:\n",
    "    tasa_nominal (float): Tasa nominal (en decimales)\n",
    "    inflacion (float): Tasa de inflación (en decimales)\n",
    "    \n",
    "    Retorna:\n",
    "    float: Tasa real\n",
    "    \"\"\"\n",
    "    return (1 + tasa_nominal) / (1 + inflacion) - 1"
   ]
  },
  {
   "cell_type": "markdown",
   "metadata": {},
   "source": [
    "## Ejemplo 1: Conversión entre TNA y TEA\n",
    "\n",
    "Comparemos cómo se relacionan las tasas nominales y efectivas con diferentes frecuencias de capitalización, usando como ejemplo una tasa de plazo fijo en Argentina."
   ]
  },
  {
   "cell_type": "code",
   "execution_count": null,
   "metadata": {},
   "outputs": [],
   "source": [
    "# Datos del ejemplo (contexto argentino 2024)\n",
    "tna_ejemplo = 0.97  # 97% TNA\n",
    "capitalizaciones = 12  # capitalización mensual\n",
    "\n",
    "# Calcular TEA\n",
    "tea = tna_a_tea(tna_ejemplo, capitalizaciones)\n",
    "\n",
    "print(f\"TNA: {tna_ejemplo:.2%}\")\n",
    "print(f\"Frecuencia de capitalización: {capitalizaciones} veces por año\")\n",
    "print(f\"TEA equivalente: {tea:.2%}\")\n",
    "print(f\"Diferencia: {(tea - tna_ejemplo) * 100:.2f} puntos porcentuales\")"
   ]
  },
  {
   "cell_type": "markdown",
   "metadata": {},
   "source": [
    "## Efecto de la frecuencia de capitalización\n",
    "\n",
    "Analicemos cómo la frecuencia de capitalización afecta a la TEA resultante:"
   ]
  },
  {
   "cell_type": "code",
   "execution_count": null,
   "metadata": {},
   "outputs": [],
   "source": [
    "# Diferentes frecuencias de capitalización\n",
    "frecuencias = [1, 2, 4, 12, 24, 52, 365]  # anual, semestral, trimestral, mensual, quincenal, semanal, diaria\n",
    "nombres = ['Anual', 'Semestral', 'Trimestral', 'Mensual', 'Quincenal', 'Semanal', 'Diaria']\n",
    "\n",
    "# Calcular TEA para cada frecuencia\n",
    "tasas_efectivas = [tna_a_tea(tna_ejemplo, f) for f in frecuencias]\n",
    "\n",
    "# Crear DataFrame con resultados\n",
    "resultados = pd.DataFrame({\n",
    "    'Frecuencia': nombres,\n",
    "    'Capitalizaciones por año': frecuencias,\n",
    "    'TEA': tasas_efectivas,\n",
    "    'Diferencia vs TNA (pp)': [(tea - tna_ejemplo) * 100 for tea in tasas_efectivas]\n",
    "})\n",
    "\n",
    "# Formatear para visualización\n",
    "pd.options.display.float_format = '{:.2%}'.format\n",
    "resultados_visualizacion = resultados.copy()\n",
    "resultados_visualizacion['Diferencia vs TNA (pp)'] = resultados['Diferencia vs TNA (pp)'].apply(lambda x: f\"{x:.2f}\")\n",
    "resultados_visualizacion['Capitalizaciones por año'] = resultados['Capitalizaciones por año']\n",
    "resultados_visualizacion"
   ]
  },
  {
   "cell_type": "code",
   "execution_count": null,
   "metadata": {},
   "outputs": [],
   "source": [
    "# Visualizar el efecto de la frecuencia de capitalización\n",
    "plt.figure(figsize=(12, 6))\n",
    "plt.plot(frecuencias, tasas_efectivas, 'b-', marker='o')\n",
    "plt.axhline(y=tna_ejemplo, color='r', linestyle='--', label=f'TNA: {tna_ejemplo:.2%}')\n",
    "\n",
    "# Añadir etiquetas a puntos seleccionados\n",
    "etiquetas = [0, 3, 6]  # anual, mensual, diaria\n",
    "for i in etiquetas:\n",
    "    plt.annotate(f\"{nombres[i]}: {tasas_efectivas[i]:.2%}\", \n",
    "                 xy=(frecuencias[i], tasas_efectivas[i]),\n",
    "                 xytext=(frecuencias[i]*1.1, tasas_efectivas[i]),\n",
    "                 arrowprops=dict(facecolor='black', shrink=0.05, width=1))\n",
    "\n",
    "plt.title('Efecto de la frecuencia de capitalización en la TEA', fontsize=16)\n",
    "plt.xlabel('Capitalizaciones por año (escala logarítmica)', fontsize=14)\n",
    "plt.ylabel('Tasa Efectiva Anual', fontsize=14)\n",
    "plt.grid(True, alpha=0.3)\n",
    "plt.xscale('log')\n",
    "plt.legend()\n",
    "plt.tight_layout()\n",
    "plt.show()"
   ]
  },
  {
   "cell_type": "markdown",
   "metadata": {},
   "source": [
    "## Ejemplo 2: Tasa Real en contexto inflacionario\n",
    "\n",
    "En Argentina, con su alta inflación, es fundamental distinguir entre tasas nominales y reales para evaluar el verdadero rendimiento de una inversión o el costo de un préstamo."
   ]
  },
  {
   "cell_type": "code",
   "execution_count": null,
   "metadata": {},
   "outputs": [],
   "source": [
    "# Datos del ejemplo (contexto 2024)\n",
    "tea = tna_a_tea(tna_ejemplo, capitalizaciones)  # TEA calculada anteriormente\n",
    "inflacion_anual = 1.40  # 140% inflación anual estimada\n",
    "\n",
    "# Calcular tasa real\n",
    "tasa_real_anual = tasa_real(tea, inflacion_anual)\n",
    "\n",
    "print(f\"Tasa Efectiva Anual: {tea:.2%}\")\n",
    "print(f\"Inflación Anual: {inflacion_anual:.2%}\")\n",
    "print(f\"Tasa Real Anual: {tasa_real_anual:.2%}\")"
   ]
  },
  {
   "cell_type": "markdown",
   "metadata": {},
   "source": [
    "### Análisis de diferentes escenarios inflacionarios\n",
    "\n",
    "Veamos cómo diferentes niveles de inflación afectan a la tasa real:"
   ]
  },
  {
   "cell_type": "code",
   "execution_count": null,
   "metadata": {},
   "outputs": [],
   "source": [
    "# Diferentes escenarios de inflación\n",
    "inflaciones = np.array([0.40, 0.60, 0.80, 1.00, 1.20, 1.40, 1.60])\n",
    "tasas_reales = [tasa_real(tea, inf) for inf in inflaciones]\n",
    "\n",
    "# Crear tabla\n",
    "tabla_inflacion = pd.DataFrame({\n",
    "    'Inflación Anual': [f\"{inf:.0%}\" for inf in inflaciones],\n",
    "    'TEA': [f\"{tea:.2%}\" for _ in inflaciones],\n",
    "    'Tasa Real': tasas_reales,\n",
    "    'Rendimiento/Pérdida': ['Rendimiento real' if tr > 0 else 'Pérdida real' for tr in tasas_reales]\n",
    "})\n",
    "\n",
    "pd.options.display.float_format = '{:.2%}'.format\n",
    "tabla_inflacion"
   ]
  },
  {
   "cell_type": "code",
   "execution_count": null,
   "metadata": {},
   "outputs": [],
   "source": [
    "# Visualizar relación entre inflación y tasa real\n",
    "plt.figure(figsize=(12, 6))\n",
    "plt.plot(inflaciones * 100, tasas_reales * 100, 'r-', marker='o', linewidth=2)\n",
    "plt.axhline(y=0, color='k', linestyle='--')\n",
    "plt.axvline(x=tea * 100, color='b', linestyle='--', \n",
    "           label=f'TEA = {tea:.2%} (punto de equilibrio)')\n",
    "\n",
    "# Sombreado para áreas de rendimiento y pérdida\n",
    "breakeven_idx = np.argmin(np.abs(tasas_reales))\n",
    "breakeven_inflation = inflaciones[breakeven_idx]\n",
    "\n",
    "plt.fill_between(inflaciones[:breakeven_idx+1] * 100, \n",
    "                tasas_reales[:breakeven_idx+1] * 100, 0, \n",
    "                color='green', alpha=0.2, label='Rendimiento real positivo')\n",
    "plt.fill_between(inflaciones[breakeven_idx:] * 100, \n",
    "                tasas_reales[breakeven_idx:] * 100, 0, \n",
    "                color='red', alpha=0.2, label='Rendimiento real negativo')\n",
    "\n",
    "plt.title('Tasa real según nivel de inflación', fontsize=16)\n",
    "plt.xlabel('Inflación Anual (%)', fontsize=14)\n",
    "plt.ylabel('Tasa Real Anual (%)', fontsize=14)\n",
    "plt.grid(True, alpha=0.3)\n",
    "plt.legend()\n",
    "plt.tight_layout()\n",
    "plt.show()\n",
    "\n",
    "print(f\"Punto de equilibrio: Inflación de {breakeven_inflation:.2%} genera tasa real de {tasas_reales[breakeven_idx]:.2%}\")"
   ]
  },
  {
   "cell_type": "markdown",
   "metadata": {},
   "source": [
    "## Conversión entre tasas de diferentes períodos\n",
    "\n",
    "A menudo necesitamos convertir tasas entre diferentes períodos (por ejemplo, de anual a mensual o viceversa)."
   ]
  },
  {
   "cell_type": "code",
   "execution_count": null,
   "metadata": {},
   "outputs": [],
   "source": [
    "def convertir_tasa_efectiva(tasa_efectiva, periodo_origen, periodo_destino):\n",
    "    \"\"\"\n",
    "    Convierte una tasa efectiva de un período a otro\n",
    "    \n",
    "    Parámetros:\n",
    "    tasa_efectiva (float): Tasa efectiva para el período de origen\n",
    "    periodo_origen (int): Número de períodos de origen en un año (ej: 1 para anual, 12 para mensual)\n",
    "    periodo_destino (int): Número de períodos de destino en un año\n",
    "    \n",
    "    Retorna:\n",
    "    float: Tasa efectiva para el período de destino\n",
    "    \"\"\"\n",
    "    # Primero convertir a tasa efectiva anual\n",
    "    tea = (1 + tasa_efectiva) ** periodo_origen - 1\n",
    "    \n",
    "    # Luego convertir de TEA a tasa efectiva del período destino\n",
    "    return (1 + tea) ** (1 / periodo_destino) - 1"
   ]
  },
  {
   "cell_type": "code",
   "execution_count": null,
   "metadata": {},
   "outputs": [],
   "source": [
    "# Ejemplo: Convertir tasa efectiva mensual a tasa efectiva diaria\n",
    "tem = 0.08  # 8% mensual (muy común en tarjetas de crédito argentinas)\n",
    "ted = convertir_tasa_efectiva(tem, 12, 365)  # De mensual a diaria\n",
    "tea_desde_tem = convertir_tasa_efectiva(tem, 12, 1)  # De mensual a anual\n",
    "\n",
    "print(f\"Tasa Efectiva Mensual: {tem:.2%}\")\n",
    "print(f\"Tasa Efectiva Diaria equivalente: {ted:.4%}\")\n",
    "print(f\"Tasa Efectiva Anual equivalente: {tea_desde_tem:.2%}\")\n",
    "\n",
    "# Verificar: Si aplicamos la TED durante 30 días, deberíamos obtener aproximadamente la TEM\n",
    "verificacion = (1 + ted) ** 30 - 1\n",
    "print(f\"Verificación - TEM calculada desde TED por 30 días: {verificacion:.2%} (vs {tem:.2%})\")"
   ]
  },
  {
   "cell_type": "markdown",
   "metadata": {},
   "source": [
    "## Comparación de instrumentos financieros con diferentes estructuras de tasas\n",
    "\n",
    "Analicemos la rentabilidad real de diferentes instrumentos financieros comunes en Argentina:"
   ]
  },
  {
   "cell_type": "code",
   "execution_count": null,
   "metadata": {},
   "outputs": [],
   "source": [
    "# Definir instrumentos comunes\n",
    "instrumentos = {\n",
    "    'Plazo Fijo Tradicional': {'tna': 0.97, 'capitalizacion': 1, 'descripcion': 'Pago al vencimiento'},\n",
    "    'Plazo Fijo UVA': {'tna': 0.06, 'capitalizacion': 1, 'descripcion': 'Ajustado por inflación + 6% TNA'},\n",
    "    'Cuenta Remunerada': {'tna': 0.80, 'capitalizacion': 365, 'descripcion': 'Capitalización diaria'},\n",
    "    'Bono Soberano': {'tna': 0.10, 'capitalizacion': 1, 'descripcion': 'Dólar linked + 10% TNA'},\n",
    "    'Fondo Money Market': {'tna': 0.85, 'capitalizacion': 365, 'descripcion': 'Capitalización diaria'}\n",
    "}\n",
    "\n",
    "# Definir escenarios macroeconómicos\n",
    "escenarios = {\n",
    "    'Inflación Alta': {'inflacion': 1.40, 'devaluacion': 1.20},  # 140% inflación, 120% devaluación\n",
    "    'Inflación Moderada': {'inflacion': 0.80, 'devaluacion': 0.70},  # 80% inflación, 70% devaluación\n",
    "    'Inflación Baja': {'inflacion': 0.40, 'devaluacion': 0.30}  # 40% inflación, 30% devaluación\n",
    "}\n",
    "\n",
    "# Calcular rendimientos reales en cada escenario\n",
    "resultados = {}\n",
    "\n",
    "for escenario, params in escenarios.items():\n",
    "    resultados[escenario] = {}\n",
    "    \n",
    "    for instrumento, datos in instrumentos.items():\n",
    "        tea = tna_a_tea(datos['tna'], datos['capitalizacion'])\n",
    "        \n",
    "        # Ajustes especiales por tipo de instrumento\n",
    "        if instrumento == 'Plazo Fijo UVA':\n",
    "            tea = (1 + tea) * (1 + params['inflacion']) - 1  # Ajuste UVA\n",
    "        elif instrumento == 'Bono Soberano':\n",
    "            tea = (1 + tea) * (1 + params['devaluacion']) - 1  # Ajuste dólar\n",
    "        \n",
    "        tasa_real_calc = tasa_real(tea, params['inflacion'])\n",
    "        resultados[escenario][instrumento] = tasa_real_calc\n",
    "\n",
    "# Convertir a DataFrame para visualización\n",
    "df_resultados = pd.DataFrame(resultados)\n",
    "pd.options.display.float_format = '{:.2%}'.format\n",
    "df_resultados"
   ]
  },
  {
   "cell_type": "code",
   "execution_count": null,
   "metadata": {},
   "outputs": [],
   "source": [
    "# Visualizar resultados\n",
    "plt.figure(figsize=(14, 8))\n",
    "\n",
    "# Convertir a formato largo para seaborn\n",
    "df_long = df_resultados.reset_index().melt(id_vars=['index'], \n",
    "                                           value_vars=list(escenarios.keys()),\n",
    "                                           var_name='Escenario', \n",
    "                                           value_name='Tasa Real')\n",
    "df_long.rename(columns={'index': 'Instrumento'}, inplace=True)\n",
    "\n",
    "# Crear gráfico de barras con seaborn\n",
    "sns.barplot(x='Instrumento', y='Tasa Real', hue='Escenario', data=df_long)\n",
    "\n",
    "plt.axhline(y=0, color='k', linestyle='--')\n",
    "plt.title('Rendimiento real por instrumento y escenario', fontsize=16)\n",
    "plt.xlabel('Instrumento', fontsize=14)\n",
    "plt.ylabel('Tasa Real Anual', fontsize=14)\n",
    "plt.grid(True, alpha=0.3, axis='y')\n",
    "plt.xticks(rotation=45, ha='right')\n",
    "plt.legend(title='Escenario')\n",
    "plt.tight_layout()\n",
    "plt.show()"
   ]
  },
  {
   "cell_type": "markdown",
   "metadata": {},
   "source": [
    "## Conclusiones\n",
    "\n",
    "En un contexto de alta inflación como el argentino, se pueden extraer varias conclusiones importantes:\n",
    "\n",
    "1. La frecuencia de capitalización tiene un impacto significativo en el rendimiento efectivo, especialmente con tasas nominales altas.\n",
    "\n",
    "2. La inflación erosiona rápidamente los rendimientos nominales, pudiendo convertir tasas nominales positivas en tasas reales negativas.\n",
    "\n",
    "3. Los instrumentos indexados (como los UVA o dólar linked) suelen ofrecer mejor protección contra la inflación que los instrumentos a tasa fija.\n",
    "\n",
    "4. La elección del instrumento financiero debe considerar diferentes escenarios macroeconómicos para gestionar adecuadamente el riesgo.\n",
    "\n",
    "5. Es fundamental analizar las tasas efectivas (no las nominales) y, más importante aún, las tasas reales para tomar decisiones financieras informadas."
   ]
  },
  {
   "cell_type": "markdown",
   "metadata": {},
   "source": [
    "## Ejercicios propuestos\n",
    "\n",
    "1. Tienes la opción de invertir en un plazo fijo que ofrece una TNA del 110% con capitalización mensual o en un fondo money market que ofrece una TNA del 105% con capitalización diaria. ¿Cuál ofrece mejor TEA?\n",
    "\n",
    "2. Un préstamo personal tiene una tasa efectiva mensual del 9%. Calcula:\n",
    "   - La tasa efectiva anual equivalente\n",
    "   - La TNA equivalente con capitalización mensual\n",
    "   - La tasa efectiva diaria equivalente\n",
    "\n",
    "3. Si la inflación proyectada es del 150% anual, ¿qué tasa efectiva anual necesitarías para obtener un rendimiento real del 5%?\n",
    "\n",
    "4. Una tarjeta de crédito cobra un CFT (Costo Financiero Total) de 320% TEA. Con una inflación del 130% anual, ¿cuál es el costo real del financiamiento?\n",
    "\n",
    "5. Construye una función en Python que calcule la tasa efectiva para cualquier período a partir de una TNA y su frecuencia de capitalización. Por ejemplo, obtener la tasa efectiva trimestral a partir de una TNA capitalizable mensualmente."
   ]
  }
 ],
 "metadata": {
  "kernelspec": {
   "display_name": "Python 3",
   "language": "python",
   "name": "python3"
  },
  "language_info": {
   "codemirror_mode": {
    "name": "ipython",
    "version": 3
   },
   "file_extension": ".py",
   "mimetype": "text/x-python",
   "name": "python",
   "nbconvert_exporter": "python",
   "pygments_lexer": "ipython3",
   "version": "3.8.10"
  }
 },
 "nbformat": 4,
 "nbformat_minor": 4
}