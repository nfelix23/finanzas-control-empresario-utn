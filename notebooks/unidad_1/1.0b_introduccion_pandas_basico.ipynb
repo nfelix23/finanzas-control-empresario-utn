{
 "cells": [
  {
   "cell_type": "markdown",
   "metadata": {},
   "source": [
    "# Introducción a Pandas para Análisis Financiero\n",
    "\n",
    "### Finanzas y Control Empresario - UTN La Plata\n",
    "#### Unidad 1: Fundamentos y Valor del Dinero en el Tiempo\n",
    "\n",
    "---\n",
    "\n",
    "## Objetivos de Aprendizaje\n",
    "\n",
    "* Comprender los fundamentos de Pandas y sus estructuras de datos\n",
    "* Manipular y transformar datos financieros eficientemente\n",
    "* Aplicar análisis estadístico básico a conjuntos de datos financieros\n",
    "* Visualizar datos económicos relevantes para el contexto argentino\n",
    "\n",
    "---"
   ]
  },
  {
   "cell_type": "code",
   "execution_count": null,
   "metadata": {},
   "outputs": [],
   "source": [
    "# Importamos las bibliotecas necesarias\n",
    "import pandas as pd\n",
    "import numpy as np\n",
    "import matplotlib.pyplot as plt\n",
    "import seaborn as sns\n",
    "\n",
    "# Configuración para gráficos\n",
    "plt.style.use('ggplot')\n",
    "plt.rcParams['figure.figsize'] = (12, 6)\n",
    "%matplotlib inline"
   ]
  },
  {
   "cell_type": "markdown",
   "metadata": {},
   "source": [
    "## 1. Estructuras de datos principales en Pandas\n",
    "\n",
    "### Series: Arrays unidimensionales etiquetados"
   ]
  },
  {
   "cell_type": "code",
   "execution_count": null,
   "metadata": {},
   "outputs": [],
   "source": [
    "# Crear una serie a partir de una lista\n",
    "tasas_bcra = pd.Series([0.4975, 0.5075, 0.5200, 0.5300, 0.5375, 0.5500], \n",
    "                       index=['Ene', 'Feb', 'Mar', 'Abr', 'May', 'Jun'],\n",
    "                       name='Tasa Política Monetaria BCRA 2023')\n",
    "\n",
    "print(\"Serie de tasas:\")\n",
    "print(tasas_bcra)\n",
    "\n",
    "# Operaciones con series\n",
    "tasas_mensualizadas = (1 + tasas_bcra) ** (1/12) - 1\n",
    "tasas_mensualizadas.name = 'Tasa Mensual Equivalente'\n",
    "\n",
    "print(\"\\nTasas mensualizadas:\")\n",
    "print(tasas_mensualizadas)"
   ]
  },
  {
   "cell_type": "markdown",
   "metadata": {},
   "source": [
    "### DataFrames: Tablas bidimensionales"
   ]
  },
  {
   "cell_type": "code",
   "execution_count": null,
   "metadata": {},
   "outputs": [],
   "source": [
    "# Crear un DataFrame a partir de un diccionario\n",
    "data = {\n",
    "    'Fecha': ['2023-01-31', '2023-02-28', '2023-03-31', '2023-04-30', '2023-05-31', '2023-06-30'],\n",
    "    'Tasa Política': [0.4975, 0.5075, 0.5200, 0.5300, 0.5375, 0.5500],\n",
    "    'Inflación Mensual': [0.0600, 0.0580, 0.0550, 0.0520, 0.0480, 0.0450],\n",
    "    'Dólar Oficial': [187.5, 194.2, 202.6, 213.1, 225.4, 240.8],\n",
    "    'Dólar Blue': [368.5, 379.0, 392.0, 404.0, 485.0, 493.0],\n",
    "    'Riesgo País': [1872, 1824, 1906, 1868, 1793, 1752]\n",
    "}\n",
    "\n",
    "df = pd.DataFrame(data)\n",
    "print(\"DataFrame original:\")\n",
    "print(df.head())\n",
    "\n",
    "# Convertir la columna de fecha a tipo datetime\n",
    "df['Fecha'] = pd.to_datetime(df['Fecha'])\n",
    "\n",
    "# Establecer la columna Fecha como índice\n",
    "df = df.set_index('Fecha')\n",
    "print(\"\\nDataFrame con índice de fecha:\")\n",
    "print(df.head())"
   ]
  },
  {
   "cell_type": "markdown",
   "metadata": {},
   "source": [
    "## 2. Operaciones básicas con DataFrames"
   ]
  },
  {
   "cell_type": "code",
   "execution_count": null,
   "metadata": {},
   "outputs": [],
   "source": [
    "# Información sobre el DataFrame\n",
    "print(\"Información del DataFrame:\")\n",
    "print(df.info())\n",
    "\n",
    "# Estadísticas descriptivas\n",
    "print(\"\\nEstadísticas descriptivas:\")\n",
    "print(df.describe())\n",
    "\n",
    "# Acceder a una columna específica\n",
    "print(\"\\nTasas mensuales:\")\n",
    "print(df['Tasa Política'])\n",
    "\n",
    "# Seleccionar múltiples columnas\n",
    "print(\"\\nTasas e inflación:\")\n",
    "print(df[['Tasa Política', 'Inflación Mensual']])"
   ]
  },
  {
   "cell_type": "markdown",
   "metadata": {},
   "source": [
    "### Filtrado de datos"
   ]
  },
  {
   "cell_type": "code",
   "execution_count": null,
   "metadata": {},
   "outputs": [],
   "source": [
    "# Filtrado con condiciones\n",
    "print(\"Meses con inflación superior a 5.5%:\")\n",
    "print(df[df['Inflación Mensual'] > 0.055])\n",
    "\n",
    "# Filtrado con múltiples condiciones\n",
    "print(\"\\nMeses con dólar oficial > 210 y riesgo país < 1800:\")\n",
    "print(df[(df['Dólar Oficial'] > 210) & (df['Riesgo País'] < 1800)])"
   ]
  },
  {
   "cell_type": "markdown",
   "metadata": {},
   "source": [
    "### Creación de nuevas columnas calculadas"
   ]
  },
  {
   "cell_type": "code",
   "execution_count": null,
   "metadata": {},
   "outputs": [],
   "source": [
    "# Añadir nuevas columnas calculadas\n",
    "df['Brecha Cambiaria'] = (df['Dólar Blue'] / df['Dólar Oficial'] - 1)\n",
    "df['Tasa Real'] = ((1 + df['Tasa Política']) / (1 + df['Inflación Mensual']) ** 12) - 1\n",
    "df['Tasa Mensual Equivalente'] = (1 + df['Tasa Política']) ** (1/12) - 1\n",
    "\n",
    "print(\"DataFrame con columnas calculadas:\")\n",
    "print(df.head())"
   ]
  },
  {
   "cell_type": "markdown",
   "metadata": {},
   "source": [
    "## 3. Visualización de datos financieros"
   ]
  },
  {
   "cell_type": "code",
   "execution_count": null,
   "metadata": {},
   "outputs": [],
   "source": [
    "# Gráfico de evolución de tasas vs inflación\n",
    "fig, ax = plt.subplots()\n",
    "df[['Tasa Política', 'Inflación Mensual']].plot(ax=ax)\n",
    "ax.set_title('Evolución de Tasas vs Inflación')\n",
    "ax.set_ylabel('Tasa')\n",
    "ax.grid(True, linestyle='--', alpha=0.7)\n",
    "plt.tight_layout()\n",
    "plt.show()\n",
    "\n",
    "# Tasa real\n",
    "fig, ax = plt.subplots()\n",
    "df['Tasa Real'].plot(kind='bar', ax=ax, color='teal')\n",
    "ax.set_title('Tasa Real Mensual')\n",
    "ax.set_ylabel('Tasa Real')\n",
    "ax.axhline(y=0, color='black', linestyle='-', alpha=0.3)\n",
    "ax.grid(True, linestyle='--', alpha=0.7)\n",
    "plt.tight_layout()\n",
    "plt.show()"
   ]
  },
  {
   "cell_type": "markdown",
   "metadata": {},
   "source": [
    "## 4. Análisis de series temporales"
   ]
  },
  {
   "cell_type": "code",
   "execution_count": null,
   "metadata": {},
   "outputs": [],
   "source": [
    "# Creamos datos diarios simulados\n",
    "fechas = pd.date_range(start='2023-01-01', end='2023-06-30', freq='B')  # 'B' significa días hábiles\n",
    "np.random.seed(42)\n",
    "datos_diarios = pd.DataFrame({\n",
    "    'Dólar Oficial': np.linspace(185, 240, len(fechas)) + np.random.normal(0, 1, len(fechas)),\n",
    "    'Dólar Blue': np.linspace(365, 495, len(fechas)) + np.random.normal(0, 5, len(fechas))\n",
    "}, index=fechas)\n",
    "\n",
    "# Resampling a frecuencia semanal\n",
    "datos_semanales = datos_diarios.resample('W').mean()\n",
    "print(\"Datos semanales:\")\n",
    "print(datos_semanales.head())\n",
    "\n",
    "# Calcular medias móviles\n",
    "datos_diarios['MA5 Dólar Blue'] = datos_diarios['Dólar Blue'].rolling(window=5).mean()\n",
    "datos_diarios['MA20 Dólar Blue'] = datos_diarios['Dólar Blue'].rolling(window=20).mean()\n",
    "\n",
    "# Visualización de medias móviles\n",
    "plt.figure()\n",
    "plt.plot(datos_diarios.index, datos_diarios['Dólar Blue'], label='Dólar Blue', alpha=0.7)\n",
    "plt.plot(datos_diarios.index, datos_diarios['MA5 Dólar Blue'], label='Media Móvil 5 días')\n",
    "plt.plot(datos_diarios.index, datos_diarios['MA20 Dólar Blue'], label='Media Móvil 20 días')\n",
    "plt.title('Evolución del Dólar Blue y Medias Móviles')\n",
    "plt.legend()\n",
    "plt.tight_layout()\n",
    "plt.show()"
   ]
  },
  {
   "cell_type": "markdown",
   "metadata": {},
   "source": [
    "## 5. Conclusiones\n",
    "\n",
    "En este notebook hemos explorado los conceptos básicos de Pandas para análisis financiero:\n",
    "\n",
    "* Aprendimos a manejar Series y DataFrames, estructuras esenciales para datos financieros\n",
    "* Realizamos operaciones de filtrado y transformación de datos\n",
    "* Creamos nuevas columnas con cálculos financieros relevantes\n",
    "* Aplicamos técnicas de análisis de series temporales como resampling y medias móviles\n",
    "* Visualizamos datos financieros con gráficos efectivos\n",
    "\n",
    "En próximos notebooks, aplicaremos estas herramientas al análisis del valor temporal del dinero y otros conceptos financieros clave.\n",
    "\n",
    "## Ejercicios propuestos\n",
    "\n",
    "1. Crear un DataFrame con datos mensuales de inflación y tasas de interés del último año\n",
    "2. Calcular y graficar la tasa real mensualizada para cada período\n",
    "3. Implementar una función que simule distintos escenarios de inversión con distintos niveles de inflación\n",
    "4. Realizar un análisis comparativo entre invertir en plazo fijo vs. dólar durante el último año"
   ]
  }
 ],
 "metadata": {
  "kernelspec": {
   "display_name": "Python 3",
   "language": "python",
   "name": "python3"
  },
  "language_info": {
   "codemirror_mode": {
    "name": "ipython",
    "version": 3
   },
   "file_extension": ".py",
   "mimetype": "text/x-python",
   "name": "python",
   "nbconvert_exporter": "python",
   "pygments_lexer": "ipython3",
   "version": "3.8.8"
  }
 },
 "nbformat": 4,
 "nbformat_minor": 4
}