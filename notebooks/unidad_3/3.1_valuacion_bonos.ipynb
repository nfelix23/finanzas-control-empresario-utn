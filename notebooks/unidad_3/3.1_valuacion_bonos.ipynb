{
 "cells": [
  {
   "cell_type": "markdown",
   "metadata": {},
   "source": [
    "# 3.1 Valuación de Bonos\n",
    "\n",
    "## Universidad Tecnológica Nacional - Facultad Regional La Plata\n",
    "### Finanzas y Control Empresario - Ingeniería Industrial\n",
    "### Prof. Esp. en Finanzas Cuantitativas\n",
    "\n",
    "---\n",
    "\n",
    "## Objetivos de Aprendizaje\n",
    "\n",
    "Al finalizar esta clase, los estudiantes podrán:\n",
    "\n",
    "- Comprender los conceptos fundamentales de los bonos y su funcionamiento\n",
    "- Calcular el precio y rendimiento de bonos utilizando Python\n",
    "- Analizar la duración y convexidad como medidas de riesgo\n",
    "- Evaluar el impacto de cambios en las tasas de interés\n",
    "- Aplicar estos conceptos a bonos del mercado argentino\n",
    "\n",
    "---"
   ]
  },
  {
   "cell_type": "markdown",
   "metadata": {},
   "source": [
    "## 1. Fundamentos Teóricos\n",
    "\n",
    "### 1.1 ¿Qué es un Bono?\n",
    "\n",
    "Un **bono** es un instrumento de deuda que representa un préstamo que el inversionista hace al emisor (gobierno, municipio, o corporación). Los bonos tienen las siguientes características:\n",
    "\n",
    "- **Valor Nominal (Face Value/Par Value)**: El monto que se pagará al vencimiento\n",
    "- **Cupón**: El pago periódico de intereses\n",
    "- **Tasa de Cupón**: La tasa de interés sobre el valor nominal\n",
    "- **Vencimiento**: La fecha en que se devuelve el capital\n",
    "- **Rendimiento al Vencimiento (YTM)**: La tasa de retorno total si se mantiene hasta el vencimiento\n",
    "\n",
    "### 1.2 Tipos de Bonos\n",
    "\n",
    "**Por el Emisor:**\n",
    "- **Bonos del Tesoro**: Emitidos por el gobierno nacional\n",
    "- **Bonos Corporativos**: Emitidos por empresas\n",
    "- **Bonos Municipales**: Emitidos por gobiernos locales\n",
    "\n",
    "**Por la Estructura de Pagos:**\n",
    "- **Bonos con Cupón**: Pagan intereses periódicos\n",
    "- **Bonos Cupón Cero**: No pagan cupones, se venden con descuento\n",
    "- **Bonos Perpetuos**: No tienen fecha de vencimiento\n",
    "\n",
    "**En el Contexto Argentino:**\n",
    "- **LECAP**: Letras de Capitalización\n",
    "- **BONCER**: Bonos de Consolidación de Deudas\n",
    "- **Bonar**: Bonos de la República Argentina\n",
    "- **BOPREAL**: Bonos en pesos con cláusula de ajuste por inflación"
   ]
  },
  {
   "cell_type": "markdown",
   "metadata": {},
   "source": [
    "## 2. Valuación de Bonos: Marco Teórico\n",
    "\n",
    "### 2.1 Principio Fundamental\n",
    "\n",
    "El precio de un bono es el **valor presente de todos sus flujos de efectivo futuros**, descontados a la tasa de rendimiento requerida.\n",
    "\n",
    "### 2.2 Fórmula General de Valuación\n",
    "\n",
    "Para un bono con cupones periódicos:\n",
    "\n",
    "$$P = \\sum_{t=1}^{n} \\frac{C}{(1+r)^t} + \\frac{M}{(1+r)^n}$$\n",
    "\n",
    "Donde:\n",
    "- **P** = Precio del bono\n",
    "- **C** = Pago de cupón periódico\n",
    "- **M** = Valor nominal (principal)\n",
    "- **r** = Tasa de rendimiento requerida por período\n",
    "- **n** = Número total de períodos\n",
    "- **t** = Período específico\n",
    "\n",
    "### 2.3 Casos Especiales\n",
    "\n",
    "**Bono Cupón Cero:**\n",
    "$$P = \\frac{M}{(1+r)^n}$$\n",
    "\n",
    "**Bono Perpetuo:**\n",
    "$$P = \\frac{C}{r}$$\n",
    "\n",
    "**Bono con Cupones Anuales vs. Semestrales:**\n",
    "- Anual: usar **r** y **n** tal como están\n",
    "- Semestral: usar **r/2** y **2n**"
   ]
  },
  {
   "cell_type": "code",
   "execution_count": null,
   "metadata": {},
   "outputs": [],
   "source": [
    "# Importación de librerías necesarias\n",
    "import numpy as np\n",
    "import pandas as pd\n",
    "import matplotlib.pyplot as plt\n",
    "import seaborn as sns\n",
    "from scipy.optimize import fsolve\n",
    "import warnings\n",
    "warnings.filterwarnings('ignore')\n",
    "\n",
    "# Configuración de gráficos\n",
    "plt.style.use('seaborn-v0_8')\n",
    "plt.rcParams['figure.figsize'] = (10, 6)\n",
    "plt.rcParams['font.size'] = 12\n",
    "\n",
    "print(\"Librerías importadas correctamente\")\n",
    "print(\"Versiones:\")\n",
    "print(f\"NumPy: {np.__version__}\")\n",
    "print(f\"Pandas: {pd.__version__}\")"
   ]
  }
 ],
 "metadata": {
  "kernelspec": {
   "display_name": "Python 3",
   "language": "python",
   "name": "python3"
  },
  "language_info": {
   "codemirror_mode": {
    "name": "ipython",
    "version": 3
   },
   "file_extension": ".py",
   "mimetype": "text/x-python",
   "name": "python",
   "nbconvert_exporter": "python",
   "pygments_lexer": "ipython3",
   "version": "3.8.5"
  }
 },
 "nbformat": 4,
 "nbformat_minor": 4
}